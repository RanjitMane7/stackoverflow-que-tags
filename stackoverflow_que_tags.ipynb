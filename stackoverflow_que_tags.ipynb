{
  "nbformat": 4,
  "nbformat_minor": 0,
  "metadata": {
    "colab": {
      "name": "stackoverflow-que-tags",
      "provenance": [],
      "collapsed_sections": [],
      "authorship_tag": "ABX9TyP/+nBqpkqCO1LqFDvITUnr",
      "include_colab_link": true
    },
    "kernelspec": {
      "name": "python3",
      "display_name": "Python 3"
    },
    "language_info": {
      "name": "python"
    }
  },
  "cells": [
    {
      "cell_type": "markdown",
      "metadata": {
        "id": "view-in-github",
        "colab_type": "text"
      },
      "source": [
        "<a href=\"https://colab.research.google.com/github/RanjitMane7/stackoverflow-que-tags/blob/main/stackoverflow_que_tags.ipynb\" target=\"_parent\"><img src=\"https://colab.research.google.com/assets/colab-badge.svg\" alt=\"Open In Colab\"/></a>"
      ]
    },
    {
      "cell_type": "code",
      "metadata": {
        "id": "QY1ya6do8jeZ"
      },
      "source": [
        "tags_list = ['tensorflow', 'keras', 'pandas', 'scikit-learn', 'seaborn', 'numpy', 'matplotlib']"
      ],
      "execution_count": 7,
      "outputs": []
    },
    {
      "cell_type": "code",
      "metadata": {
        "id": "cJhSUoWFokFb"
      },
      "source": [
        "#data_url = r'gdrive://home/bq-results-20210506-000204-wrn723q78ynd/bq-results-20210506-000204-wrn723q78ynd.csv'"
      ],
      "execution_count": 8,
      "outputs": []
    },
    {
      "cell_type": "code",
      "metadata": {
        "id": "PW3hOKZT0JBX"
      },
      "source": [
        "#!gsutil cp 'gdrive://home/bq-results-20210506-000204-wrn723q78ynd/bq-results-20210506-000204-wrn723q78ynd.csv' ./"
      ],
      "execution_count": 9,
      "outputs": []
    },
    {
      "cell_type": "markdown",
      "metadata": {
        "id": "OSr69vsff1IX"
      },
      "source": [
        ""
      ]
    },
    {
      "cell_type": "code",
      "metadata": {
        "id": "S29iWCKU49Kx"
      },
      "source": [
        "import pandas as pd\n",
        "import numpy as np"
      ],
      "execution_count": 10,
      "outputs": []
    },
    {
      "cell_type": "code",
      "metadata": {
        "id": "sRbTmSQCgDkZ",
        "colab": {
          "base_uri": "https://localhost:8080/"
        },
        "outputId": "69b9dc58-3dbc-40f9-e5c8-2c09e68cb54b"
      },
      "source": [
        "from google.colab import drive\n",
        "drive.mount('/gdrive')"
      ],
      "execution_count": 11,
      "outputs": [
        {
          "output_type": "stream",
          "text": [
            "Drive already mounted at /gdrive; to attempt to forcibly remount, call drive.mount(\"/gdrive\", force_remount=True).\n"
          ],
          "name": "stdout"
        }
      ]
    },
    {
      "cell_type": "code",
      "metadata": {
        "id": "bBLCGOZN5cio"
      },
      "source": [
        "df = pd.read_csv(\"/gdrive/MyDrive/bq-results-20210506-000204-wrn723q78ynd/bq-results-20210506-000204-wrn723q78ynd.csv\")"
      ],
      "execution_count": 12,
      "outputs": []
    },
    {
      "cell_type": "code",
      "metadata": {
        "colab": {
          "base_uri": "https://localhost:8080/",
          "height": 204
        },
        "id": "QMIRtBAv-M1a",
        "outputId": "996bab4b-adff-4ea9-c73c-33f8f7912c50"
      },
      "source": [
        "df.head()"
      ],
      "execution_count": 13,
      "outputs": [
        {
          "output_type": "execute_result",
          "data": {
            "text/html": [
              "<div>\n",
              "<style scoped>\n",
              "    .dataframe tbody tr th:only-of-type {\n",
              "        vertical-align: middle;\n",
              "    }\n",
              "\n",
              "    .dataframe tbody tr th {\n",
              "        vertical-align: top;\n",
              "    }\n",
              "\n",
              "    .dataframe thead th {\n",
              "        text-align: right;\n",
              "    }\n",
              "</style>\n",
              "<table border=\"1\" class=\"dataframe\">\n",
              "  <thead>\n",
              "    <tr style=\"text-align: right;\">\n",
              "      <th></th>\n",
              "      <th>text</th>\n",
              "      <th>tags</th>\n",
              "    </tr>\n",
              "  </thead>\n",
              "  <tbody>\n",
              "    <tr>\n",
              "      <th>0</th>\n",
              "      <td>blabla: scatter and colorbar values i have dat...</td>\n",
              "      <td>python,matplotlib</td>\n",
              "    </tr>\n",
              "    <tr>\n",
              "      <th>1</th>\n",
              "      <td>code is working but with a 'deprecationwarning...</td>\n",
              "      <td>python,csv,numpy,statistics,scipy</td>\n",
              "    </tr>\n",
              "    <tr>\n",
              "      <th>2</th>\n",
              "      <td>design strategy for managing and processing da...</td>\n",
              "      <td>dataset,pandas,pytables</td>\n",
              "    </tr>\n",
              "    <tr>\n",
              "      <th>3</th>\n",
              "      <td>python pattern's restrictingwrapper with metac...</td>\n",
              "      <td>python,design-patterns,numpy,pandas,metaclass</td>\n",
              "    </tr>\n",
              "    <tr>\n",
              "      <th>4</th>\n",
              "      <td>blabla axes formatting i am creating a realtim...</td>\n",
              "      <td>python,matplotlib,pyqt</td>\n",
              "    </tr>\n",
              "  </tbody>\n",
              "</table>\n",
              "</div>"
            ],
            "text/plain": [
              "                                                text                                           tags\n",
              "0  blabla: scatter and colorbar values i have dat...                              python,matplotlib\n",
              "1  code is working but with a 'deprecationwarning...              python,csv,numpy,statistics,scipy\n",
              "2  design strategy for managing and processing da...                        dataset,pandas,pytables\n",
              "3  python pattern's restrictingwrapper with metac...  python,design-patterns,numpy,pandas,metaclass\n",
              "4  blabla axes formatting i am creating a realtim...                         python,matplotlib,pyqt"
            ]
          },
          "metadata": {
            "tags": []
          },
          "execution_count": 13
        }
      ]
    },
    {
      "cell_type": "code",
      "metadata": {
        "id": "_DJL3JRJu_Ed"
      },
      "source": [
        "def req_tags(tags):\n",
        "    tags_short=[]\n",
        "    for i in tags_list:\n",
        "        if i in tags:\n",
        "            tags_short.append(i)\n",
        "    return ','.join(tags_short)"
      ],
      "execution_count": 14,
      "outputs": []
    },
    {
      "cell_type": "code",
      "metadata": {
        "id": "2p2K4tTVwbeQ"
      },
      "source": [
        "df['tags'] = df['tags'].apply(req_tags)"
      ],
      "execution_count": 15,
      "outputs": []
    },
    {
      "cell_type": "code",
      "metadata": {
        "id": "F4uyI36ix1fK"
      },
      "source": [
        "#df['tags'][:5].apply(for t)"
      ],
      "execution_count": 16,
      "outputs": []
    },
    {
      "cell_type": "code",
      "metadata": {
        "colab": {
          "base_uri": "https://localhost:8080/",
          "height": 204
        },
        "id": "P3SoigeHtoiT",
        "outputId": "f129d0a4-243c-4454-c980-7b4b1dc33c1a"
      },
      "source": [
        "# aa = df['tags'][:1]\n",
        "# aa.apply(req_tags)\n",
        "# df.head()"
      ],
      "execution_count": 17,
      "outputs": [
        {
          "output_type": "execute_result",
          "data": {
            "text/html": [
              "<div>\n",
              "<style scoped>\n",
              "    .dataframe tbody tr th:only-of-type {\n",
              "        vertical-align: middle;\n",
              "    }\n",
              "\n",
              "    .dataframe tbody tr th {\n",
              "        vertical-align: top;\n",
              "    }\n",
              "\n",
              "    .dataframe thead th {\n",
              "        text-align: right;\n",
              "    }\n",
              "</style>\n",
              "<table border=\"1\" class=\"dataframe\">\n",
              "  <thead>\n",
              "    <tr style=\"text-align: right;\">\n",
              "      <th></th>\n",
              "      <th>text</th>\n",
              "      <th>tags</th>\n",
              "    </tr>\n",
              "  </thead>\n",
              "  <tbody>\n",
              "    <tr>\n",
              "      <th>0</th>\n",
              "      <td>blabla: scatter and colorbar values i have dat...</td>\n",
              "      <td>matplotlib</td>\n",
              "    </tr>\n",
              "    <tr>\n",
              "      <th>1</th>\n",
              "      <td>code is working but with a 'deprecationwarning...</td>\n",
              "      <td>numpy</td>\n",
              "    </tr>\n",
              "    <tr>\n",
              "      <th>2</th>\n",
              "      <td>design strategy for managing and processing da...</td>\n",
              "      <td>pandas</td>\n",
              "    </tr>\n",
              "    <tr>\n",
              "      <th>3</th>\n",
              "      <td>python pattern's restrictingwrapper with metac...</td>\n",
              "      <td>pandas,numpy</td>\n",
              "    </tr>\n",
              "    <tr>\n",
              "      <th>4</th>\n",
              "      <td>blabla axes formatting i am creating a realtim...</td>\n",
              "      <td>matplotlib</td>\n",
              "    </tr>\n",
              "  </tbody>\n",
              "</table>\n",
              "</div>"
            ],
            "text/plain": [
              "                                                text          tags\n",
              "0  blabla: scatter and colorbar values i have dat...    matplotlib\n",
              "1  code is working but with a 'deprecationwarning...         numpy\n",
              "2  design strategy for managing and processing da...        pandas\n",
              "3  python pattern's restrictingwrapper with metac...  pandas,numpy\n",
              "4  blabla axes formatting i am creating a realtim...    matplotlib"
            ]
          },
          "metadata": {
            "tags": []
          },
          "execution_count": 17
        }
      ]
    },
    {
      "cell_type": "code",
      "metadata": {
        "colab": {
          "base_uri": "https://localhost:8080/"
        },
        "id": "G_yNlMeCn-dm",
        "outputId": "33cde630-9f4a-4f43-ca31-0eaa03ae6c63"
      },
      "source": [
        "df.info()"
      ],
      "execution_count": 18,
      "outputs": [
        {
          "output_type": "stream",
          "text": [
            "<class 'pandas.core.frame.DataFrame'>\n",
            "RangeIndex: 411626 entries, 0 to 411625\n",
            "Data columns (total 2 columns):\n",
            " #   Column  Non-Null Count   Dtype \n",
            "---  ------  --------------   ----- \n",
            " 0   text    411626 non-null  object\n",
            " 1   tags    411626 non-null  object\n",
            "dtypes: object(2)\n",
            "memory usage: 6.3+ MB\n"
          ],
          "name": "stdout"
        }
      ]
    },
    {
      "cell_type": "code",
      "metadata": {
        "colab": {
          "base_uri": "https://localhost:8080/"
        },
        "id": "72fnLD7LoCbd",
        "outputId": "9aa01223-0dba-45e2-a698-694c09bdc471"
      },
      "source": [
        "# df['tags'].describe()"
      ],
      "execution_count": 19,
      "outputs": [
        {
          "output_type": "execute_result",
          "data": {
            "text/plain": [
              "count     411626\n",
              "unique        64\n",
              "top       pandas\n",
              "freq      167334\n",
              "Name: tags, dtype: object"
            ]
          },
          "metadata": {
            "tags": []
          },
          "execution_count": 19
        }
      ]
    },
    {
      "cell_type": "code",
      "metadata": {
        "colab": {
          "base_uri": "https://localhost:8080/"
        },
        "id": "_v8JAcN2qIjL",
        "outputId": "866e10ce-e614-4ab0-d5af-b53422e80b20"
      },
      "source": [
        "# df['tags'].values[:10]"
      ],
      "execution_count": 20,
      "outputs": [
        {
          "output_type": "execute_result",
          "data": {
            "text/plain": [
              "array(['matplotlib', 'numpy', 'pandas', 'pandas,numpy', 'matplotlib',\n",
              "       'numpy,matplotlib', 'numpy', 'numpy', 'matplotlib', 'numpy'],\n",
              "      dtype=object)"
            ]
          },
          "metadata": {
            "tags": []
          },
          "execution_count": 20
        }
      ]
    },
    {
      "cell_type": "code",
      "metadata": {
        "colab": {
          "base_uri": "https://localhost:8080/"
        },
        "id": "alT1TAkFoMqV",
        "outputId": "776a9e2a-3d13-47b4-8a8e-45643f24727a"
      },
      "source": [
        "df.shape"
      ],
      "execution_count": 21,
      "outputs": [
        {
          "output_type": "execute_result",
          "data": {
            "text/plain": [
              "(411626, 2)"
            ]
          },
          "metadata": {
            "tags": []
          },
          "execution_count": 21
        }
      ]
    },
    {
      "cell_type": "code",
      "metadata": {
        "id": "CKXqFg8O-SAx"
      },
      "source": [
        "#imports\n",
        "from sklearn.preprocessing import MultiLabelBinarizer\n",
        "from sklearn.utils import shuffle\n",
        "from tensorflow.keras.layers import Dense, Dropout, Activation\n",
        "from tensorflow.keras.models import Sequential"
      ],
      "execution_count": 98,
      "outputs": []
    },
    {
      "cell_type": "code",
      "metadata": {
        "id": "ImIAoV-x-2NM"
      },
      "source": [
        "#Shuffling the data\n",
        "#df = shuffle(df, n_samples=100000, random_state=101)\n",
        "df = shuffle(df, random_state=101)\n",
        "# df.shape\n",
        "# df.head()"
      ],
      "execution_count": 23,
      "outputs": []
    },
    {
      "cell_type": "code",
      "metadata": {
        "colab": {
          "base_uri": "https://localhost:8080/"
        },
        "id": "68GDBhAJhgf5",
        "outputId": "b745a8b1-278c-4179-8cb5-f572e6a74eed"
      },
      "source": [
        "df.shape"
      ],
      "execution_count": 24,
      "outputs": [
        {
          "output_type": "execute_result",
          "data": {
            "text/plain": [
              "(411626, 2)"
            ]
          },
          "metadata": {
            "tags": []
          },
          "execution_count": 24
        }
      ]
    },
    {
      "cell_type": "code",
      "metadata": {
        "colab": {
          "base_uri": "https://localhost:8080/"
        },
        "id": "wAksVu-hfOUA",
        "outputId": "317cfea7-0d8e-4c79-c9d5-d0544c9810d8"
      },
      "source": [
        "##Encode tags to multi-hot\n",
        "\n",
        "tags_split = [tags.split(',') for tags in df['tags'].values]\n",
        "print(len(tags_split), '\\n')"
      ],
      "execution_count": 25,
      "outputs": [
        {
          "output_type": "stream",
          "text": [
            "411626 \n",
            "\n"
          ],
          "name": "stdout"
        }
      ]
    },
    {
      "cell_type": "code",
      "metadata": {
        "colab": {
          "base_uri": "https://localhost:8080/"
        },
        "id": "_WCNLHTwioRC",
        "outputId": "ea0e6df4-9263-4447-e32c-fb8d5a07c736"
      },
      "source": [
        "tag_encoder = MultiLabelBinarizer()\n",
        "tags_encoded = tag_encoder.fit_transform(tags_split)\n",
        "num_tags = len(tags_encoded[0])\n",
        "\n",
        "# print(df['text'].values[0])\n",
        "print(tag_encoder.classes_)\n",
        "print(tags_encoded[0])"
      ],
      "execution_count": 26,
      "outputs": [
        {
          "output_type": "stream",
          "text": [
            "gridsearchcv: internal logic i'm trying to understand how gridsearchcv's logic works. i looked at here, the official documentation, and the source code, but i couldn't figure out the following:\n",
            "\n",
            "what is the general logic behind gridsearchcv?\n",
            "\n",
            "clarifications:\n",
            "\n",
            "if i use the default cv = 5, what are the % splits of the input data\n",
            "into: train, validation, and test?\n",
            "how often does gridsearchcv perform such a split, and how does it decide which observation belong to train / validation / test?\n",
            "since cross validation is being done, where does any averaging come into play for the hyper parameter tuning? i.e. is the optimal hyper parameter value is one that optimizes some sort of average?\n",
            "\n",
            "this question here shares my concern, but i don't know how up-to-date the information is and i am not sure i understand all the information there. for example, according to the op, my understanding is that:\n",
            "\n",
            "the test set is 25% of the input data set and is created once.\n",
            "the union  of the train set and validation set is correspondingly created once and this union is 75% of the original data.\n",
            "then, the procedure creates 5 (because cv = 5) further splits of this 75% into 60% train and 15% validation\n",
            "the optimized hyper parameter value is one that optimizes the average of some metric over these 5 splits.\n",
            "\n",
            "is this understanding correct and still applicable now? and how does the procedure do the original 25%-75% split?\n",
            "['keras' 'matplotlib' 'numpy' 'pandas' 'scikit-learn' 'seaborn'\n",
            " 'tensorflow']\n",
            "[0 0 0 0 1 0 0]\n"
          ],
          "name": "stdout"
        }
      ]
    },
    {
      "cell_type": "code",
      "metadata": {
        "colab": {
          "base_uri": "https://localhost:8080/"
        },
        "id": "FyGpGWFEtTfB",
        "outputId": "ca79f2d4-2f38-4a10-acde-74a8c7b5fe0b"
      },
      "source": [
        "print(tag_encoder.classes_)"
      ],
      "execution_count": 27,
      "outputs": [
        {
          "output_type": "stream",
          "text": [
            "['keras' 'matplotlib' 'numpy' 'pandas' 'scikit-learn' 'seaborn'\n",
            " 'tensorflow']\n"
          ],
          "name": "stdout"
        }
      ]
    },
    {
      "cell_type": "code",
      "metadata": {
        "colab": {
          "base_uri": "https://localhost:8080/"
        },
        "id": "nS1n3VocpWpi",
        "outputId": "86bb6c85-32e3-408c-d33c-116e0df59ab0"
      },
      "source": [
        "print(len(tags_encoded))"
      ],
      "execution_count": 28,
      "outputs": [
        {
          "output_type": "stream",
          "text": [
            "411626\n"
          ],
          "name": "stdout"
        }
      ]
    },
    {
      "cell_type": "code",
      "metadata": {
        "colab": {
          "base_uri": "https://localhost:8080/"
        },
        "id": "LUtfXXIqzZL3",
        "outputId": "560331f2-adda-4657-a164-117a9c08ae7d"
      },
      "source": [
        "#train test split\n",
        "from sklearn.model_selection import train_test_split\n",
        "train_size = int(len(df) * .8)\n",
        "print(\"Train size: %d\" % train_size)\n",
        "print(\"Test size: %d\" % (len(df) - train_size))"
      ],
      "execution_count": 29,
      "outputs": [
        {
          "output_type": "stream",
          "text": [
            "Train size: 329300\n",
            "Test size: 82326\n"
          ],
          "name": "stdout"
        }
      ]
    },
    {
      "cell_type": "code",
      "metadata": {
        "id": "3X07u3zS0Ewb"
      },
      "source": [
        "#spliting data between train and test\n",
        "train_tags = tags_encoded[:train_size]\n",
        "test_tags = tags_encoded[train_size:]"
      ],
      "execution_count": 30,
      "outputs": []
    },
    {
      "cell_type": "code",
      "metadata": {
        "id": "hSVydgtDyaYl"
      },
      "source": [
        "#X_train, X_test, y_train, y_test = train_test_split(X, y, test_size=0.33, random_state=42)"
      ],
      "execution_count": 31,
      "outputs": []
    },
    {
      "cell_type": "code",
      "metadata": {
        "id": "n8j1ptFL_CDP",
        "colab": {
          "base_uri": "https://localhost:8080/"
        },
        "outputId": "7ebe735a-5e2a-453b-a05f-63b90264b439"
      },
      "source": [
        "%%writefile preprocess.py\n",
        "\n",
        "from tensorflow.keras.preprocessing import text\n",
        "\n",
        "class TextPreprocessor(object):\n",
        "    def __init__(self, vocab_size):\n",
        "        self._vocab_size = vocab_size\n",
        "        self._tokenizer = None\n",
        "\n",
        "    def create_tokenizer(self, text_list):\n",
        "        tokenizer = text.Tokenizer(num_words=self._vocab_size)\n",
        "        tokenizer.fit_on_texts(text_list)\n",
        "        self._tokenizer = tokenizer\n",
        "\n",
        "    def transform_text(self, text_list):\n",
        "        text_matrix = self._tokenizer.texts_to_matrix(text_list)\n",
        "        return text_matrix"
      ],
      "execution_count": 32,
      "outputs": [
        {
          "output_type": "stream",
          "text": [
            "Writing preprocess.py\n"
          ],
          "name": "stdout"
        }
      ]
    },
    {
      "cell_type": "code",
      "metadata": {
        "id": "I1ulTv_mKl4V"
      },
      "source": [
        "## Create bag of words matrices\n",
        "\n",
        "from preprocess import TextPreprocessor\n",
        "\n",
        "train_qs = df['text'].values[:train_size]\n",
        "test_qs = df['text'].values[train_size:]\n",
        "\n",
        "VOCAB_SIZE = 400\n",
        "\n",
        "processor = TextPreprocessor(VOCAB_SIZE)\n",
        "processor.create_tokenizer(train_qs)\n",
        "\n",
        "body_train = processor.transform_text(train_qs)\n",
        "body_test = processor.transform_text(test_qs)"
      ],
      "execution_count": 33,
      "outputs": []
    },
    {
      "cell_type": "code",
      "metadata": {
        "colab": {
          "base_uri": "https://localhost:8080/"
        },
        "id": "gZd0UUlj3Cf3",
        "outputId": "f5f98489-220d-44f3-b6b8-20d121315e10"
      },
      "source": [
        "#preview of training data\n",
        "print(len(body_train[0]))\n",
        "print(body_train[0])"
      ],
      "execution_count": 34,
      "outputs": [
        {
          "output_type": "stream",
          "text": [
            "400\n",
            "[0. 0. 1. 1. 0. 1. 1. 0. 0. 0. 1. 1. 1. 0. 1. 0. 1. 1. 0. 0. 0. 0. 1. 0.\n",
            " 0. 0. 1. 0. 0. 1. 0. 0. 0. 0. 0. 1. 0. 0. 0. 1. 0. 0. 1. 1. 0. 1. 0. 0.\n",
            " 0. 0. 0. 0. 0. 1. 0. 0. 0. 0. 1. 1. 0. 0. 0. 0. 0. 1. 0. 0. 0. 0. 0. 0.\n",
            " 0. 1. 0. 0. 0. 1. 0. 0. 0. 0. 0. 1. 1. 0. 0. 0. 0. 0. 0. 0. 1. 0. 0. 0.\n",
            " 0. 1. 0. 1. 0. 0. 0. 0. 0. 0. 0. 1. 0. 1. 1. 0. 1. 0. 1. 0. 0. 0. 0. 0.\n",
            " 0. 1. 1. 0. 0. 0. 1. 0. 1. 1. 0. 1. 0. 0. 1. 0. 1. 0. 0. 1. 1. 0. 0. 1.\n",
            " 0. 0. 0. 0. 0. 0. 0. 0. 0. 1. 0. 0. 0. 0. 0. 0. 1. 0. 0. 0. 0. 0. 0. 0.\n",
            " 0. 0. 0. 0. 0. 0. 0. 0. 0. 1. 0. 0. 0. 0. 0. 0. 0. 0. 0. 0. 0. 0. 0. 0.\n",
            " 0. 0. 0. 0. 0. 0. 0. 1. 0. 0. 0. 0. 0. 0. 0. 0. 0. 0. 0. 0. 0. 0. 0. 0.\n",
            " 1. 0. 0. 0. 0. 1. 0. 0. 0. 0. 0. 0. 0. 1. 0. 0. 0. 0. 0. 0. 0. 0. 1. 0.\n",
            " 0. 0. 0. 0. 0. 0. 0. 0. 0. 0. 0. 0. 0. 0. 0. 0. 0. 0. 0. 0. 0. 0. 0. 0.\n",
            " 0. 0. 0. 0. 0. 0. 0. 0. 0. 0. 1. 0. 0. 0. 0. 0. 1. 0. 0. 0. 0. 0. 0. 0.\n",
            " 0. 0. 0. 0. 0. 0. 0. 0. 0. 0. 0. 0. 0. 0. 0. 0. 0. 0. 1. 0. 0. 0. 0. 0.\n",
            " 0. 1. 0. 0. 0. 0. 0. 0. 0. 0. 0. 0. 1. 0. 0. 0. 0. 0. 0. 0. 0. 0. 0. 0.\n",
            " 1. 0. 0. 0. 0. 0. 0. 0. 0. 0. 0. 1. 0. 0. 1. 0. 0. 0. 0. 1. 0. 0. 0. 0.\n",
            " 0. 0. 0. 0. 0. 0. 0. 0. 0. 0. 0. 0. 0. 0. 0. 0. 0. 0. 0. 0. 0. 0. 0. 0.\n",
            " 0. 0. 0. 0. 0. 0. 0. 0. 0. 0. 0. 0. 0. 0. 1. 0.]\n"
          ],
          "name": "stdout"
        }
      ]
    },
    {
      "cell_type": "code",
      "metadata": {
        "colab": {
          "base_uri": "https://localhost:8080/"
        },
        "id": "FA77j2xX4VXz",
        "outputId": "04aff332-1b7a-4ffd-b810-765985f32c95"
      },
      "source": [
        "# print(df['text'][0])"
      ],
      "execution_count": 35,
      "outputs": [
        {
          "output_type": "stream",
          "text": [
            "blabla: scatter and colorbar values i have data:\n",
            "\n",
            "values = np.array( [0,1,2,3,4,5] )\n",
            "\n",
            "\n",
            "i want to plot values as pyplot.scatter with different sizes and colours. also, i want to resize the dots so the smallest dots are well visible.\n",
            "\n",
            "if i do:\n",
            "\n",
            "sc = pyplot.scatter ( pos_x, pos_y, values )\n",
            "pyplot.colorbar( sc )\n",
            "\n",
            "\n",
            "then i get the proper values and colors, but the smallest dots are too small. now if i do:\n",
            "\n",
            "values_scaled = (values * 2 + 1)\n",
            "sc = pyplot.scatter ( pos_x, pos_y, values_scaled )\n",
            "pyplot.colorbar( sc )\n",
            "\n",
            "\n",
            "then the dots have acceptable sizes (although a bit fake) but the colorbar legend starts at 1 and ends at 11, which i don't want. i want to scale just sizes of the dots, but not the values assigned there. how to do that?\n"
          ],
          "name": "stdout"
        }
      ]
    },
    {
      "cell_type": "markdown",
      "metadata": {
        "id": "GE5Y6PS64eHf"
      },
      "source": [
        "**Build and Train our Model**"
      ]
    },
    {
      "cell_type": "code",
      "metadata": {
        "id": "wKngkH8L4Vxy"
      },
      "source": [
        "#Save the tokenizer state\n",
        "\n",
        "import pickle\n",
        "\n",
        "with open('./processor_state.pkl', 'wb') as f:\n",
        "    pickle.dump(processor, f)"
      ],
      "execution_count": 36,
      "outputs": []
    },
    {
      "cell_type": "code",
      "metadata": {
        "colab": {
          "base_uri": "https://localhost:8080/"
        },
        "id": "dV3YFYeJ7ggv",
        "outputId": "9908df45-6670-4729-f76c-54d1106f85c6"
      },
      "source": [
        "num_tags"
      ],
      "execution_count": 37,
      "outputs": [
        {
          "output_type": "execute_result",
          "data": {
            "text/plain": [
              "7"
            ]
          },
          "metadata": {
            "tags": []
          },
          "execution_count": 37
        }
      ]
    },
    {
      "cell_type": "code",
      "metadata": {
        "colab": {
          "base_uri": "https://localhost:8080/"
        },
        "id": "aHqCnfZQ5gIq",
        "outputId": "d1e0882d-c4d4-4a6a-ffe2-5aac38037d61"
      },
      "source": [
        "## Create the model\n",
        "\n",
        "def create_model(vocab_size, num_tags):\n",
        "    model = Sequential()\n",
        "    model.add(Dense(50, input_shape=(vocab_size,), activation='relu'))\n",
        "    # model.add(Dropout(0.2))\n",
        "    # model.add(Dense(50, activation='relu'))\n",
        "    # model.add(Dropout(0.2))\n",
        "    model.add(Dense(25, activation='relu'))\n",
        "    # model.add(Dropout(0.2))\n",
        "    model.add(Dense(num_tags, activation='sigmoid'))\n",
        "\n",
        "    model.compile(\n",
        "        loss='binary_crossentropy',\n",
        "        optimizer='adam',\n",
        "        metrics=['accuracy']\n",
        "    )\n",
        "    return model\n",
        "\n",
        "model = create_model(VOCAB_SIZE, num_tags)\n",
        "model.summary()"
      ],
      "execution_count": 124,
      "outputs": [
        {
          "output_type": "stream",
          "text": [
            "Model: \"sequential_3\"\n",
            "_________________________________________________________________\n",
            "Layer (type)                 Output Shape              Param #   \n",
            "=================================================================\n",
            "dense_11 (Dense)             (None, 50)                20050     \n",
            "_________________________________________________________________\n",
            "dense_12 (Dense)             (None, 25)                1275      \n",
            "_________________________________________________________________\n",
            "dense_13 (Dense)             (None, 7)                 182       \n",
            "=================================================================\n",
            "Total params: 21,507\n",
            "Trainable params: 21,507\n",
            "Non-trainable params: 0\n",
            "_________________________________________________________________\n"
          ],
          "name": "stdout"
        }
      ]
    },
    {
      "cell_type": "code",
      "metadata": {
        "colab": {
          "base_uri": "https://localhost:8080/"
        },
        "id": "S7a3E7yE85Gd",
        "outputId": "ab2b3a8e-0798-45ef-8946-5f56371751a1"
      },
      "source": [
        "## Train\n",
        "model.fit(body_train, train_tags, epochs=25, batch_size=128, validation_split=0.1, verbose=1)"
      ],
      "execution_count": 125,
      "outputs": [
        {
          "output_type": "stream",
          "text": [
            "Epoch 1/25\n",
            "2316/2316 [==============================] - 5s 2ms/step - loss: 0.1963 - accuracy: 0.7377 - val_loss: 0.1190 - val_accuracy: 0.8329\n",
            "Epoch 2/25\n",
            "2316/2316 [==============================] - 4s 2ms/step - loss: 0.1140 - accuracy: 0.8337 - val_loss: 0.1138 - val_accuracy: 0.8312\n",
            "Epoch 3/25\n",
            "2316/2316 [==============================] - 4s 2ms/step - loss: 0.1096 - accuracy: 0.8359 - val_loss: 0.1123 - val_accuracy: 0.8312\n",
            "Epoch 4/25\n",
            "2316/2316 [==============================] - 4s 2ms/step - loss: 0.1075 - accuracy: 0.8374 - val_loss: 0.1117 - val_accuracy: 0.8338\n",
            "Epoch 5/25\n",
            "2316/2316 [==============================] - 4s 2ms/step - loss: 0.1053 - accuracy: 0.8407 - val_loss: 0.1118 - val_accuracy: 0.8274\n",
            "Epoch 6/25\n",
            "2316/2316 [==============================] - 4s 2ms/step - loss: 0.1044 - accuracy: 0.8421 - val_loss: 0.1111 - val_accuracy: 0.8308\n",
            "Epoch 7/25\n",
            "2316/2316 [==============================] - 4s 2ms/step - loss: 0.1029 - accuracy: 0.8441 - val_loss: 0.1115 - val_accuracy: 0.8346\n",
            "Epoch 8/25\n",
            "2316/2316 [==============================] - 4s 2ms/step - loss: 0.1022 - accuracy: 0.8442 - val_loss: 0.1117 - val_accuracy: 0.8332\n",
            "Epoch 9/25\n",
            "2316/2316 [==============================] - 4s 2ms/step - loss: 0.1014 - accuracy: 0.8457 - val_loss: 0.1117 - val_accuracy: 0.8341\n",
            "Epoch 10/25\n",
            "2316/2316 [==============================] - 4s 2ms/step - loss: 0.1010 - accuracy: 0.8460 - val_loss: 0.1121 - val_accuracy: 0.8330\n",
            "Epoch 11/25\n",
            "2316/2316 [==============================] - 4s 2ms/step - loss: 0.1006 - accuracy: 0.8458 - val_loss: 0.1119 - val_accuracy: 0.8340\n",
            "Epoch 12/25\n",
            "2316/2316 [==============================] - 4s 2ms/step - loss: 0.0996 - accuracy: 0.8480 - val_loss: 0.1121 - val_accuracy: 0.8347\n",
            "Epoch 13/25\n",
            "2316/2316 [==============================] - 4s 2ms/step - loss: 0.0998 - accuracy: 0.8472 - val_loss: 0.1125 - val_accuracy: 0.8343\n",
            "Epoch 14/25\n",
            "2316/2316 [==============================] - 4s 2ms/step - loss: 0.0989 - accuracy: 0.8478 - val_loss: 0.1125 - val_accuracy: 0.8343\n",
            "Epoch 15/25\n",
            "2316/2316 [==============================] - 4s 2ms/step - loss: 0.0989 - accuracy: 0.8492 - val_loss: 0.1131 - val_accuracy: 0.8306\n",
            "Epoch 16/25\n",
            "2316/2316 [==============================] - 4s 2ms/step - loss: 0.0982 - accuracy: 0.8497 - val_loss: 0.1132 - val_accuracy: 0.8295\n",
            "Epoch 17/25\n",
            "2316/2316 [==============================] - 4s 2ms/step - loss: 0.0983 - accuracy: 0.8493 - val_loss: 0.1130 - val_accuracy: 0.8297\n",
            "Epoch 18/25\n",
            "2316/2316 [==============================] - 4s 2ms/step - loss: 0.0975 - accuracy: 0.8505 - val_loss: 0.1133 - val_accuracy: 0.8271\n",
            "Epoch 19/25\n",
            "2316/2316 [==============================] - 4s 2ms/step - loss: 0.0975 - accuracy: 0.8499 - val_loss: 0.1139 - val_accuracy: 0.8282\n",
            "Epoch 20/25\n",
            "2316/2316 [==============================] - 4s 2ms/step - loss: 0.0968 - accuracy: 0.8521 - val_loss: 0.1141 - val_accuracy: 0.8278\n",
            "Epoch 21/25\n",
            "2316/2316 [==============================] - 4s 2ms/step - loss: 0.0969 - accuracy: 0.8525 - val_loss: 0.1138 - val_accuracy: 0.8312\n",
            "Epoch 22/25\n",
            "2316/2316 [==============================] - 4s 2ms/step - loss: 0.0968 - accuracy: 0.8514 - val_loss: 0.1141 - val_accuracy: 0.8312\n",
            "Epoch 23/25\n",
            "2316/2316 [==============================] - 4s 2ms/step - loss: 0.0970 - accuracy: 0.8522 - val_loss: 0.1141 - val_accuracy: 0.8308\n",
            "Epoch 24/25\n",
            "2316/2316 [==============================] - 5s 2ms/step - loss: 0.0957 - accuracy: 0.8529 - val_loss: 0.1150 - val_accuracy: 0.8303\n",
            "Epoch 25/25\n",
            "2316/2316 [==============================] - 5s 2ms/step - loss: 0.0968 - accuracy: 0.8516 - val_loss: 0.1145 - val_accuracy: 0.8285\n"
          ],
          "name": "stdout"
        },
        {
          "output_type": "execute_result",
          "data": {
            "text/plain": [
              "<tensorflow.python.keras.callbacks.History at 0x7fe2caac2c50>"
            ]
          },
          "metadata": {
            "tags": []
          },
          "execution_count": 125
        }
      ]
    },
    {
      "cell_type": "code",
      "metadata": {
        "id": "OxMhpXvOWxZi"
      },
      "source": [
        "losses = pd.DataFrame(model.history.history)"
      ],
      "execution_count": 126,
      "outputs": []
    },
    {
      "cell_type": "code",
      "metadata": {
        "colab": {
          "base_uri": "https://localhost:8080/",
          "height": 282
        },
        "id": "k9OBBtKsXn_1",
        "outputId": "1bb0208c-acfb-4d6b-fdee-826a95211cd4"
      },
      "source": [
        "losses[['val_loss', 'loss']].plot()"
      ],
      "execution_count": 127,
      "outputs": [
        {
          "output_type": "execute_result",
          "data": {
            "text/plain": [
              "<matplotlib.axes._subplots.AxesSubplot at 0x7fe2be1cf210>"
            ]
          },
          "metadata": {
            "tags": []
          },
          "execution_count": 127
        },
        {
          "output_type": "display_data",
          "data": {
            "image/png": "[encoded data removed]",
            "text/plain": [
              "<Figure size 432x288 with 1 Axes>"
            ]
          },
          "metadata": {
            "tags": [],
            "needs_background": "light"
          }
        }
      ]
    },
    {
      "cell_type": "code",
      "metadata": {
        "colab": {
          "base_uri": "https://localhost:8080/"
        },
        "id": "I2kuQ9-a9YrD",
        "outputId": "bebed51c-33f5-476e-d159-ede879943bbc"
      },
      "source": [
        "## Evalute\n",
        "model.evaluate(body_test, test_tags, batch_size=128)\n",
        "\n",
        "## Epochs = 3\n",
        "# 644/644 [==============================] - 1s 1ms/step - loss: 0.1101 - accuracy: 0.8389\n",
        "# [0.11007880419492722, 0.8388601541519165]\n",
        "\n",
        "##Epochs = 25\n",
        "# 644/644 [==============================] - 1s 1ms/step - loss: 0.1136 - accuracy: 0.8345\n",
        "# [0.1136125847697258, 0.8345237374305725]\n",
        "\n",
        "##Model shape 50>25>out\n",
        "# 644/644 [==============================] - 1s 1ms/step - loss: 0.1116 - accuracy: 0.8378\n",
        "# [0.11160676926374435, 0.8377547860145569]\n",
        "\n",
        "## Model Shape is changed to 100 > 50 > 25 > out ---- Overfitting\n",
        "# 644/644 [==============================] - 1s 1ms/step - loss: 0.1246 - accuracy: 0.8327\n",
        "# [0.12457164376974106, 0.8326895236968994]\n",
        "\n",
        "## Dropout 0.2\n",
        "# 644/644 [==============================] - 1s 1ms/step - loss: 0.1135 - accuracy: 0.8352\n",
        "# [0.11345642060041428, 0.8352282643318176]"
      ],
      "execution_count": 128,
      "outputs": [
        {
          "output_type": "stream",
          "text": [
            "644/644 [==============================] - 1s 1ms/step - loss: 0.1120 - accuracy: 0.8354\n"
          ],
          "name": "stdout"
        },
        {
          "output_type": "execute_result",
          "data": {
            "text/plain": [
              "[0.11201324313879013, 0.8354104161262512]"
            ]
          },
          "metadata": {
            "tags": []
          },
          "execution_count": 128
        }
      ]
    },
    {
      "cell_type": "code",
      "metadata": {
        "id": "wos_b7vMGsdA"
      },
      "source": [
        "model.save('keras_stackoverflow_tags.h5')"
      ],
      "execution_count": 129,
      "outputs": []
    },
    {
      "cell_type": "code",
      "metadata": {
        "colab": {
          "base_uri": "https://localhost:8080/"
        },
        "id": "4TpWvQ82HlbU",
        "outputId": "bfc112fb-511b-464d-fb86-1d74d40e2690"
      },
      "source": [
        "%%writefile model_prediction1.py\n",
        "import pickle\n",
        "import os\n",
        "import numpy as np\n",
        "\n",
        "class CustomModelPrediction(object):\n",
        "\n",
        "    def __init__(self, model, processor):\n",
        "        self._model = model\n",
        "        self._processor = processor\n",
        "\n",
        "    def predict(self, instances, **kwargs):\n",
        "        preprocessed_data = self._processor.transform_text(instances)\n",
        "        predictions = self._model.predict(preprocessed_data)\n",
        "        return predictions.tolist()\n",
        "\n",
        "    @classmethod\n",
        "    def from_path(cls, model_dir):\n",
        "        import tensorflow.keras as keras\n",
        "        model = keras.models.load_model(\n",
        "            os.path.join(model_dir,'keras_stackoverflow_tags.h5')\n",
        "        )\n",
        "        with open(os.path.join(model_dir, 'processor_state.pkl'), 'rb') as f:\n",
        "            processor = pickle.load(f)\n",
        "\n",
        "        return cls(model, processor)"
      ],
      "execution_count": 130,
      "outputs": [
        {
          "output_type": "stream",
          "text": [
            "Overwriting model_prediction1.py\n"
          ],
          "name": "stdout"
        }
      ]
    },
    {
      "cell_type": "code",
      "metadata": {
        "colab": {
          "base_uri": "https://localhost:8080/"
        },
        "id": "8c9JiqpGY14b",
        "outputId": "c289dd9d-cbba-4d38-d83b-a7625a96fe86"
      },
      "source": [
        "# for i in range(len(test_set)):\n",
        "#     print('Predicted Labels:')\n",
        "#     for idx, val in enumerate(results[i]):\n",
        "#         if val > 0.7:\n",
        "#             print(tag_encoder.classes_[idx])\n",
        "#     print('\\n')"
      ],
      "execution_count": 132,
      "outputs": [
        {
          "output_type": "stream",
          "text": [
            "Predicted Labels:\n",
            "keras\n",
            "\n",
            "\n"
          ],
          "name": "stdout"
        }
      ]
    },
    {
      "cell_type": "code",
      "metadata": {
        "id": "jkwS0dC5bT7o"
      },
      "source": [
        "que5 = '''\n",
        "\n",
        "I have a classification (Keras) with LSTM for a dataset with 4 attributes labeled into 2 classes (safe and unsafe). with put the sigmoid in the last layer I got a better accuracy of 98% rather than softmax. My question is that:\n",
        "1 )If I use Softmax in the last layer: in Softmax based on the 2 neurons as output at the end in other code, I can compare the score and say the data belong to which. For example score_safe= 1.2945 and score_unsafe= -9.0 then I can say this row of dataset belongs to the safe class. 2)If I use Sigmid in the last layer: Then I had to put just a neuron as up output and how can I compare the scores and how can say this row of datasets belongs to which class?\n",
        "\n",
        "model = Sequential()\n",
        "model.add(LSTM(256, input_shape=(x_train.shape[1:]), activation='tanh', return_sequences=True))\n",
        "#model.add(BatchNormalization())\n",
        "model.add(Dense(128, activation='tanh'))\n",
        "#model.add(BatchNormalization())\n",
        "model.add(Dense(128, activation='tanh'))\n",
        "model.add(Dense(1, activation='sigmoid'))'''"
      ],
      "execution_count": 133,
      "outputs": []
    },
    {
      "cell_type": "code",
      "metadata": {
        "id": "rJ9HMlRSRPsM",
        "colab": {
          "base_uri": "https://localhost:8080/"
        },
        "outputId": "b3c568c2-3b97-4625-8ed7-398dc554b9f1"
      },
      "source": [
        "# test_set = [\"keras NN 60% accuracy during training 0.0% accuracy during test I've done this nn with keras that have a 60% accuracy during training. The problem is when i try to test my network with a dataset i get a network that is super sure that all the images are in the\"]\n",
        "# test_set = [\"Sigmoid as a last layer in LSTM I have a classification (Keras) with LSTM for a dataset with 4 attributes labeled into 2 classes (safe and unsafe). with put the sigmoid in the last layer I got a better accuracy of 98% rather than \"]\n",
        "test_set = [que5]\n",
        "\n",
        "from model_prediction1 import CustomModelPrediction\n",
        "\n",
        "classifier = CustomModelPrediction.from_path('.')\n",
        "results = classifier.predict(test_set)\n",
        "print(','.join(tag_encoder.classes_))\n",
        "for i in results:print(i)\n",
        "\n",
        "for i in range(len(test_set)):\n",
        "    print('Predicted Labels:')\n",
        "    for idx, val in enumerate(results[i]):\n",
        "        if val > 0.7:\n",
        "            print(tag_encoder.classes_[idx], val)\n",
        "    print('\\n')"
      ],
      "execution_count": 134,
      "outputs": [
        {
          "output_type": "stream",
          "text": [
            "keras,matplotlib,numpy,pandas,scikit-learn,seaborn,tensorflow\n",
            "[0.9614496827125549, 2.4260700115519285e-07, 0.0038607418537139893, 0.0010637640953063965, 0.004535466432571411, 3.349854393874807e-09, 0.5438019037246704]\n",
            "Predicted Labels:\n",
            "keras 0.9614496827125549\n",
            "\n",
            "\n"
          ],
          "name": "stdout"
        }
      ]
    },
    {
      "cell_type": "code",
      "metadata": {
        "colab": {
          "base_uri": "https://localhost:8080/"
        },
        "id": "amaarS8IaugT",
        "outputId": "b7af8848-d3d2-4c79-9eb0-63b492674c51"
      },
      "source": [
        "#classification report and confusion matrix\n",
        "from sklearn.metrics import classification_report\n",
        "\n",
        "predictions = model.predict(body_test) #test_tags"
      ],
      "execution_count": 136,
      "outputs": [
        {
          "output_type": "stream",
          "text": [
            "WARNING:tensorflow:5 out of the last 40 calls to <function Model.make_predict_function.<locals>.predict_function at 0x7fe2b85060e0> triggered tf.function retracing. Tracing is expensive and the excessive number of tracings could be due to (1) creating @tf.function repeatedly in a loop, (2) passing tensors with different shapes, (3) passing Python objects instead of tensors. For (1), please define your @tf.function outside of the loop. For (2), @tf.function has experimental_relax_shapes=True option that relaxes argument shapes that can avoid unnecessary retracing. For (3), please refer to https://www.tensorflow.org/guide/function#controlling_retracing and https://www.tensorflow.org/api_docs/python/tf/function for  more details.\n"
          ],
          "name": "stdout"
        }
      ]
    },
    {
      "cell_type": "code",
      "metadata": {
        "id": "JXTBlsLqj4ib"
      },
      "source": [
        "pred_df = pd.DataFrame(predictions)"
      ],
      "execution_count": 142,
      "outputs": []
    },
    {
      "cell_type": "code",
      "metadata": {
        "id": "QZ--dH9vkY08"
      },
      "source": [
        "pred_df = pred_df.apply(lambda i : i > 0.7)"
      ],
      "execution_count": 163,
      "outputs": []
    },
    {
      "cell_type": "code",
      "metadata": {
        "colab": {
          "base_uri": "https://localhost:8080/"
        },
        "id": "gszLs6xPjq9F",
        "outputId": "0b841d7a-a9cc-4a37-9dce-d2c79cbdf9b5"
      },
      "source": [
        "print(classification_report(test_tags, pred_df))"
      ],
      "execution_count": 164,
      "outputs": [
        {
          "output_type": "stream",
          "text": [
            "              precision    recall  f1-score   support\n",
            "\n",
            "           0       0.89      0.58      0.70      7085\n",
            "           1       0.91      0.76      0.83     11476\n",
            "           2       0.93      0.66      0.77     17441\n",
            "           3       0.97      0.92      0.94     38650\n",
            "           4       0.90      0.68      0.77      4495\n",
            "           5       0.72      0.24      0.36      1280\n",
            "           6       0.92      0.76      0.83     14147\n",
            "\n",
            "   micro avg       0.94      0.78      0.85     94574\n",
            "   macro avg       0.89      0.66      0.74     94574\n",
            "weighted avg       0.93      0.78      0.85     94574\n",
            " samples avg       0.87      0.82      0.84     94574\n",
            "\n"
          ],
          "name": "stdout"
        },
        {
          "output_type": "stream",
          "text": [
            "/usr/local/lib/python3.7/dist-packages/sklearn/metrics/_classification.py:1272: UndefinedMetricWarning: Precision and F-score are ill-defined and being set to 0.0 in samples with no predicted labels. Use `zero_division` parameter to control this behavior.\n",
            "  _warn_prf(average, modifier, msg_start, len(result))\n"
          ],
          "name": "stderr"
        }
      ]
    },
    {
      "cell_type": "markdown",
      "metadata": {
        "id": "5EVBqMOam4EV"
      },
      "source": [
        "**pkg and deploy**"
      ]
    },
    {
      "cell_type": "code",
      "metadata": {
        "id": "aqd6G62UmDFc"
      },
      "source": [
        "#package model and custom classe"
      ],
      "execution_count": 167,
      "outputs": []
    },
    {
      "cell_type": "code",
      "metadata": {
        "colab": {
          "base_uri": "https://localhost:8080/"
        },
        "id": "5e4xalGmnFS9",
        "outputId": "d153a07a-2efe-4b49-a3d8-c4abd6055b4f"
      },
      "source": [
        "%%writefile setup.py\n",
        "\n",
        "from setuptools import setup\n",
        "\n",
        "setup(\n",
        "    name=\"sp_predict\",\n",
        "    version=\"0.1\"\n",
        "    include_package_date=True,\n",
        "    scripts=['perprocess.py', 'model_prediction1.py']\n",
        ")"
      ],
      "execution_count": 168,
      "outputs": [
        {
          "output_type": "stream",
          "text": [
            "Writing setup.py\n"
          ],
          "name": "stdout"
        }
      ]
    },
    {
      "cell_type": "code",
      "metadata": {
        "id": "Y1neLvC7nuEe"
      },
      "source": [
        "%%capture\n",
        "!gsutil cp keras_stackoverflow_tags.h5 gs://stackoverflow-que-tags/\n"
      ],
      "execution_count": 169,
      "outputs": []
    },
    {
      "cell_type": "code",
      "metadata": {
        "id": "EfYiZ2XYo-n4"
      },
      "source": [
        ""
      ],
      "execution_count": null,
      "outputs": []
    }
  ]
}