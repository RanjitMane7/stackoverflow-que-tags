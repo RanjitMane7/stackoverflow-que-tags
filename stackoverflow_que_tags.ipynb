{
  "nbformat": 4,
  "nbformat_minor": 0,
  "metadata": {
    "colab": {
      "name": "stackoverflow-que-tags",
      "provenance": [],
      "collapsed_sections": [],
      "authorship_tag": "ABX9TyPKklmWEAxFp81Zd6sOPsw5",
      "include_colab_link": true
    },
    "kernelspec": {
      "display_name": "Python 3",
      "name": "python3"
    },
    "language_info": {
      "name": "python"
    }
  },
  "cells": [
    {
      "cell_type": "markdown",
      "metadata": {
        "id": "view-in-github",
        "colab_type": "text"
      },
      "source": [
        "<a href=\"https://colab.research.google.com/github/RanjitMane7/stackoverflow-que-tags/blob/main/stackoverflow_que_tags.ipynb\" target=\"_parent\"><img src=\"https://colab.research.google.com/assets/colab-badge.svg\" alt=\"Open In Colab\"/></a>"
      ]
    },
    {
      "cell_type": "code",
      "metadata": {
        "id": "TaqJKGs28j9x"
      },
      "source": [
        "## !pip install tensorflow==1.13.1"
      ],
      "execution_count": 1,
      "outputs": []
    },
    {
      "cell_type": "code",
      "metadata": {
        "id": "QY1ya6do8jeZ"
      },
      "source": [
        "tags_list = ['tensorflow', 'keras', 'pandas', 'scikit-learn', 'seaborn', 'numpy', 'matplotlib']"
      ],
      "execution_count": 2,
      "outputs": []
    },
    {
      "cell_type": "code",
      "metadata": {
        "id": "cJhSUoWFokFb"
      },
      "source": [
        "#data_url = r'gdrive://home/bq-results-20210506-000204-wrn723q78ynd/bq-results-20210506-000204-wrn723q78ynd.csv'"
      ],
      "execution_count": 3,
      "outputs": []
    },
    {
      "cell_type": "code",
      "metadata": {
        "id": "PW3hOKZT0JBX"
      },
      "source": [
        "#!gsutil cp 'gdrive://home/bq-results-20210506-000204-wrn723q78ynd/bq-results-20210506-000204-wrn723q78ynd.csv' ./"
      ],
      "execution_count": 4,
      "outputs": []
    },
    {
      "cell_type": "markdown",
      "metadata": {
        "id": "OSr69vsff1IX"
      },
      "source": [
        ""
      ]
    },
    {
      "cell_type": "code",
      "metadata": {
        "id": "S29iWCKU49Kx"
      },
      "source": [
        "import pandas as pd\n",
        "import numpy as np"
      ],
      "execution_count": 5,
      "outputs": []
    },
    {
      "cell_type": "code",
      "metadata": {
        "colab": {
          "base_uri": "https://localhost:8080/"
        },
        "id": "sRbTmSQCgDkZ",
        "outputId": "588a1ef0-3621-4eb3-b433-51d4a3d5c267"
      },
      "source": [
        "from google.colab import drive\n",
        "drive.mount('/gdrive')"
      ],
      "execution_count": 6,
      "outputs": [
        {
          "output_type": "stream",
          "text": [
            "Drive already mounted at /gdrive; to attempt to forcibly remount, call drive.mount(\"/gdrive\", force_remount=True).\n"
          ],
          "name": "stdout"
        }
      ]
    },
    {
      "cell_type": "code",
      "metadata": {
        "id": "bBLCGOZN5cio"
      },
      "source": [
        "df = pd.read_csv(\"/gdrive/MyDrive/bq-results-20210506-000204-wrn723q78ynd/bq-results-20210506-000204-wrn723q78ynd.csv\")"
      ],
      "execution_count": 7,
      "outputs": []
    },
    {
      "cell_type": "code",
      "metadata": {
        "colab": {
          "base_uri": "https://localhost:8080/",
          "height": 197
        },
        "id": "QMIRtBAv-M1a",
        "outputId": "51035d04-020d-436b-dab1-3f2e52ed72b7"
      },
      "source": [
        "df.head()"
      ],
      "execution_count": 8,
      "outputs": [
        {
          "output_type": "execute_result",
          "data": {
            "text/html": [
              "<div>\n",
              "<style scoped>\n",
              "    .dataframe tbody tr th:only-of-type {\n",
              "        vertical-align: middle;\n",
              "    }\n",
              "\n",
              "    .dataframe tbody tr th {\n",
              "        vertical-align: top;\n",
              "    }\n",
              "\n",
              "    .dataframe thead th {\n",
              "        text-align: right;\n",
              "    }\n",
              "</style>\n",
              "<table border=\"1\" class=\"dataframe\">\n",
              "  <thead>\n",
              "    <tr style=\"text-align: right;\">\n",
              "      <th></th>\n",
              "      <th>text</th>\n",
              "      <th>tags</th>\n",
              "    </tr>\n",
              "  </thead>\n",
              "  <tbody>\n",
              "    <tr>\n",
              "      <th>0</th>\n",
              "      <td>blabla: scatter and colorbar values i have dat...</td>\n",
              "      <td>python,matplotlib</td>\n",
              "    </tr>\n",
              "    <tr>\n",
              "      <th>1</th>\n",
              "      <td>code is working but with a 'deprecationwarning...</td>\n",
              "      <td>python,csv,numpy,statistics,scipy</td>\n",
              "    </tr>\n",
              "    <tr>\n",
              "      <th>2</th>\n",
              "      <td>design strategy for managing and processing da...</td>\n",
              "      <td>dataset,pandas,pytables</td>\n",
              "    </tr>\n",
              "    <tr>\n",
              "      <th>3</th>\n",
              "      <td>python pattern's restrictingwrapper with metac...</td>\n",
              "      <td>python,design-patterns,numpy,pandas,metaclass</td>\n",
              "    </tr>\n",
              "    <tr>\n",
              "      <th>4</th>\n",
              "      <td>blabla axes formatting i am creating a realtim...</td>\n",
              "      <td>python,matplotlib,pyqt</td>\n",
              "    </tr>\n",
              "  </tbody>\n",
              "</table>\n",
              "</div>"
            ],
            "text/plain": [
              "                                                text                                           tags\n",
              "0  blabla: scatter and colorbar values i have dat...                              python,matplotlib\n",
              "1  code is working but with a 'deprecationwarning...              python,csv,numpy,statistics,scipy\n",
              "2  design strategy for managing and processing da...                        dataset,pandas,pytables\n",
              "3  python pattern's restrictingwrapper with metac...  python,design-patterns,numpy,pandas,metaclass\n",
              "4  blabla axes formatting i am creating a realtim...                         python,matplotlib,pyqt"
            ]
          },
          "metadata": {
            "tags": []
          },
          "execution_count": 8
        }
      ]
    },
    {
      "cell_type": "code",
      "metadata": {
        "id": "_DJL3JRJu_Ed"
      },
      "source": [
        "def req_tags(tags):\n",
        "    tags_short=[]\n",
        "    for i in tags_list:\n",
        "        if i in tags:\n",
        "            tags_short.append(i)\n",
        "    return ','.join(tags_short)"
      ],
      "execution_count": 9,
      "outputs": []
    },
    {
      "cell_type": "code",
      "metadata": {
        "id": "2p2K4tTVwbeQ"
      },
      "source": [
        "df['tags'] = df['tags'].apply(req_tags)"
      ],
      "execution_count": 10,
      "outputs": []
    },
    {
      "cell_type": "code",
      "metadata": {
        "id": "F4uyI36ix1fK"
      },
      "source": [
        "#df['tags'][:5].apply(for t)"
      ],
      "execution_count": 11,
      "outputs": []
    },
    {
      "cell_type": "code",
      "metadata": {
        "id": "P3SoigeHtoiT"
      },
      "source": [
        "# aa = df['tags'][:1]\n",
        "# aa.apply(req_tags)\n",
        "# df.head()"
      ],
      "execution_count": 12,
      "outputs": []
    },
    {
      "cell_type": "code",
      "metadata": {
        "colab": {
          "base_uri": "https://localhost:8080/"
        },
        "id": "G_yNlMeCn-dm",
        "outputId": "cee1b6e8-9111-48b2-da0d-c54de0bf2b5f"
      },
      "source": [
        "df.info()"
      ],
      "execution_count": 13,
      "outputs": [
        {
          "output_type": "stream",
          "text": [
            "<class 'pandas.core.frame.DataFrame'>\n",
            "RangeIndex: 411626 entries, 0 to 411625\n",
            "Data columns (total 2 columns):\n",
            " #   Column  Non-Null Count   Dtype \n",
            "---  ------  --------------   ----- \n",
            " 0   text    411626 non-null  object\n",
            " 1   tags    411626 non-null  object\n",
            "dtypes: object(2)\n",
            "memory usage: 6.3+ MB\n"
          ],
          "name": "stdout"
        }
      ]
    },
    {
      "cell_type": "code",
      "metadata": {
        "id": "72fnLD7LoCbd"
      },
      "source": [
        "# df['tags'].describe()"
      ],
      "execution_count": 14,
      "outputs": []
    },
    {
      "cell_type": "code",
      "metadata": {
        "id": "_v8JAcN2qIjL"
      },
      "source": [
        "# df['tags'].values[:10]"
      ],
      "execution_count": 15,
      "outputs": []
    },
    {
      "cell_type": "code",
      "metadata": {
        "colab": {
          "base_uri": "https://localhost:8080/"
        },
        "id": "alT1TAkFoMqV",
        "outputId": "9760c830-2802-4198-9233-a3abcc642b86"
      },
      "source": [
        "df.shape"
      ],
      "execution_count": 16,
      "outputs": [
        {
          "output_type": "execute_result",
          "data": {
            "text/plain": [
              "(411626, 2)"
            ]
          },
          "metadata": {
            "tags": []
          },
          "execution_count": 16
        }
      ]
    },
    {
      "cell_type": "code",
      "metadata": {
        "id": "CKXqFg8O-SAx",
        "colab": {
          "base_uri": "https://localhost:8080/"
        },
        "outputId": "a546f369-53e2-4b1e-c617-9088fed6c189"
      },
      "source": [
        "#imports\n",
        "from sklearn.preprocessing import MultiLabelBinarizer\n",
        "from sklearn.utils import shuffle\n",
        "from tensorflow.keras.layers import Dense, Dropout, Activation\n",
        "from tensorflow.keras.models import Sequential"
      ],
      "execution_count": 17,
      "outputs": [
        {
          "output_type": "stream",
          "text": [
            "/usr/local/lib/python3.7/dist-packages/tensorflow/python/framework/dtypes.py:526: FutureWarning: Passing (type, 1) or '1type' as a synonym of type is deprecated; in a future version of numpy, it will be understood as (type, (1,)) / '(1,)type'.\n",
            "  _np_qint8 = np.dtype([(\"qint8\", np.int8, 1)])\n",
            "/usr/local/lib/python3.7/dist-packages/tensorflow/python/framework/dtypes.py:527: FutureWarning: Passing (type, 1) or '1type' as a synonym of type is deprecated; in a future version of numpy, it will be understood as (type, (1,)) / '(1,)type'.\n",
            "  _np_quint8 = np.dtype([(\"quint8\", np.uint8, 1)])\n",
            "/usr/local/lib/python3.7/dist-packages/tensorflow/python/framework/dtypes.py:528: FutureWarning: Passing (type, 1) or '1type' as a synonym of type is deprecated; in a future version of numpy, it will be understood as (type, (1,)) / '(1,)type'.\n",
            "  _np_qint16 = np.dtype([(\"qint16\", np.int16, 1)])\n",
            "/usr/local/lib/python3.7/dist-packages/tensorflow/python/framework/dtypes.py:529: FutureWarning: Passing (type, 1) or '1type' as a synonym of type is deprecated; in a future version of numpy, it will be understood as (type, (1,)) / '(1,)type'.\n",
            "  _np_quint16 = np.dtype([(\"quint16\", np.uint16, 1)])\n",
            "/usr/local/lib/python3.7/dist-packages/tensorflow/python/framework/dtypes.py:530: FutureWarning: Passing (type, 1) or '1type' as a synonym of type is deprecated; in a future version of numpy, it will be understood as (type, (1,)) / '(1,)type'.\n",
            "  _np_qint32 = np.dtype([(\"qint32\", np.int32, 1)])\n",
            "/usr/local/lib/python3.7/dist-packages/tensorflow/python/framework/dtypes.py:535: FutureWarning: Passing (type, 1) or '1type' as a synonym of type is deprecated; in a future version of numpy, it will be understood as (type, (1,)) / '(1,)type'.\n",
            "  np_resource = np.dtype([(\"resource\", np.ubyte, 1)])\n"
          ],
          "name": "stderr"
        }
      ]
    },
    {
      "cell_type": "code",
      "metadata": {
        "id": "ImIAoV-x-2NM"
      },
      "source": [
        "#Shuffling the data\n",
        "#df = shuffle(df, n_samples=100000, random_state=101)\n",
        "df = shuffle(df, random_state=101)\n",
        "# df.shape\n",
        "# df.head()"
      ],
      "execution_count": 18,
      "outputs": []
    },
    {
      "cell_type": "code",
      "metadata": {
        "colab": {
          "base_uri": "https://localhost:8080/"
        },
        "id": "68GDBhAJhgf5",
        "outputId": "1aa682f1-4231-4719-e7fb-c9fc19b30c5c"
      },
      "source": [
        "df.shape"
      ],
      "execution_count": 19,
      "outputs": [
        {
          "output_type": "execute_result",
          "data": {
            "text/plain": [
              "(411626, 2)"
            ]
          },
          "metadata": {
            "tags": []
          },
          "execution_count": 19
        }
      ]
    },
    {
      "cell_type": "code",
      "metadata": {
        "colab": {
          "base_uri": "https://localhost:8080/"
        },
        "id": "wAksVu-hfOUA",
        "outputId": "5902524f-7442-433a-f379-07b0e7b9f666"
      },
      "source": [
        "##Encode tags to multi-hot\n",
        "\n",
        "tags_split = [tags.split(',') for tags in df['tags'].values]\n",
        "print(len(tags_split), '\\n')"
      ],
      "execution_count": 20,
      "outputs": [
        {
          "output_type": "stream",
          "text": [
            "411626 \n",
            "\n"
          ],
          "name": "stdout"
        }
      ]
    },
    {
      "cell_type": "code",
      "metadata": {
        "colab": {
          "base_uri": "https://localhost:8080/"
        },
        "id": "_WCNLHTwioRC",
        "outputId": "a068fc76-7466-4aa5-c82a-739c1684f9ab"
      },
      "source": [
        "tag_encoder = MultiLabelBinarizer()\n",
        "tags_encoded = tag_encoder.fit_transform(tags_split)\n",
        "num_tags = len(tags_encoded[0])\n",
        "\n",
        "# print(df['text'].values[0])\n",
        "print(tag_encoder.classes_)\n",
        "print(tags_encoded[0])"
      ],
      "execution_count": 21,
      "outputs": [
        {
          "output_type": "stream",
          "text": [
            "['keras' 'matplotlib' 'numpy' 'pandas' 'scikit-learn' 'seaborn'\n",
            " 'tensorflow']\n",
            "[0 0 0 0 1 0 0]\n"
          ],
          "name": "stdout"
        }
      ]
    },
    {
      "cell_type": "code",
      "metadata": {
        "colab": {
          "base_uri": "https://localhost:8080/"
        },
        "id": "FyGpGWFEtTfB",
        "outputId": "fb9cce34-2c7e-410c-f2fc-b5717f538456"
      },
      "source": [
        "print(tag_encoder.classes_)"
      ],
      "execution_count": 22,
      "outputs": [
        {
          "output_type": "stream",
          "text": [
            "['keras' 'matplotlib' 'numpy' 'pandas' 'scikit-learn' 'seaborn'\n",
            " 'tensorflow']\n"
          ],
          "name": "stdout"
        }
      ]
    },
    {
      "cell_type": "code",
      "metadata": {
        "colab": {
          "base_uri": "https://localhost:8080/"
        },
        "id": "nS1n3VocpWpi",
        "outputId": "83b1521a-f0d5-4fb8-ef6f-a43e99923f0a"
      },
      "source": [
        "print(len(tags_encoded))"
      ],
      "execution_count": 23,
      "outputs": [
        {
          "output_type": "stream",
          "text": [
            "411626\n"
          ],
          "name": "stdout"
        }
      ]
    },
    {
      "cell_type": "code",
      "metadata": {
        "colab": {
          "base_uri": "https://localhost:8080/"
        },
        "id": "LUtfXXIqzZL3",
        "outputId": "b75314cf-9abf-48ac-8b1e-5cc7b352d14a"
      },
      "source": [
        "#train test split\n",
        "from sklearn.model_selection import train_test_split\n",
        "train_size = int(len(df) * .8)\n",
        "print(\"Train size: %d\" % train_size)\n",
        "print(\"Test size: %d\" % (len(df) - train_size))"
      ],
      "execution_count": 24,
      "outputs": [
        {
          "output_type": "stream",
          "text": [
            "Train size: 329300\n",
            "Test size: 82326\n"
          ],
          "name": "stdout"
        }
      ]
    },
    {
      "cell_type": "code",
      "metadata": {
        "id": "3X07u3zS0Ewb"
      },
      "source": [
        "#spliting data between train and test\n",
        "train_tags = tags_encoded[:train_size]\n",
        "test_tags = tags_encoded[train_size:]"
      ],
      "execution_count": 25,
      "outputs": []
    },
    {
      "cell_type": "code",
      "metadata": {
        "id": "hSVydgtDyaYl"
      },
      "source": [
        "#X_train, X_test, y_train, y_test = train_test_split(X, y, test_size=0.33, random_state=42)"
      ],
      "execution_count": 26,
      "outputs": []
    },
    {
      "cell_type": "code",
      "metadata": {
        "colab": {
          "base_uri": "https://localhost:8080/"
        },
        "id": "n8j1ptFL_CDP",
        "outputId": "8196b829-991f-4d21-be30-fe22ea1020fd"
      },
      "source": [
        "%%writefile preprocess.py\n",
        "\n",
        "from tensorflow.keras.preprocessing import text\n",
        "\n",
        "class TextPreprocessor(object):\n",
        "    def __init__(self, vocab_size):\n",
        "        self._vocab_size = vocab_size\n",
        "        self._tokenizer = None\n",
        "\n",
        "    def create_tokenizer(self, text_list):\n",
        "        tokenizer = text.Tokenizer(num_words=self._vocab_size)\n",
        "        tokenizer.fit_on_texts(text_list)\n",
        "        self._tokenizer = tokenizer\n",
        "\n",
        "    def transform_text(self, text_list):\n",
        "        text_matrix = self._tokenizer.texts_to_matrix(text_list)\n",
        "        return text_matrix"
      ],
      "execution_count": 27,
      "outputs": [
        {
          "output_type": "stream",
          "text": [
            "Overwriting preprocess.py\n"
          ],
          "name": "stdout"
        }
      ]
    },
    {
      "cell_type": "code",
      "metadata": {
        "id": "I1ulTv_mKl4V"
      },
      "source": [
        "## Create bag of words matrices\n",
        "\n",
        "from preprocess import TextPreprocessor\n",
        "\n",
        "train_qs = df['text'].values[:train_size]\n",
        "test_qs = df['text'].values[train_size:]\n",
        "\n",
        "VOCAB_SIZE = 400\n",
        "\n",
        "processor = TextPreprocessor(VOCAB_SIZE)\n",
        "processor.create_tokenizer(train_qs)\n",
        "\n",
        "body_train = processor.transform_text(train_qs)\n",
        "body_test = processor.transform_text(test_qs)"
      ],
      "execution_count": 28,
      "outputs": []
    },
    {
      "cell_type": "code",
      "metadata": {
        "colab": {
          "base_uri": "https://localhost:8080/"
        },
        "id": "gZd0UUlj3Cf3",
        "outputId": "61c37bde-3b60-4ef7-f248-7eae693e6047"
      },
      "source": [
        "#preview of training data\n",
        "print(len(body_train[0]))\n",
        "print(body_train[0])"
      ],
      "execution_count": 29,
      "outputs": [
        {
          "output_type": "stream",
          "text": [
            "400\n",
            "[0. 0. 1. 1. 0. 1. 1. 0. 0. 0. 1. 1. 1. 0. 1. 0. 1. 1. 0. 0. 0. 0. 1. 0.\n",
            " 0. 0. 1. 0. 0. 1. 0. 0. 0. 0. 0. 1. 0. 0. 0. 1. 0. 0. 1. 1. 0. 1. 0. 0.\n",
            " 0. 0. 0. 0. 0. 1. 0. 0. 0. 0. 1. 1. 0. 0. 0. 0. 0. 1. 0. 0. 0. 0. 0. 0.\n",
            " 0. 1. 0. 0. 0. 1. 0. 0. 0. 0. 0. 1. 1. 0. 0. 0. 0. 0. 0. 0. 1. 0. 0. 0.\n",
            " 0. 1. 0. 1. 0. 0. 0. 0. 0. 0. 0. 1. 0. 1. 1. 0. 1. 0. 1. 0. 0. 0. 0. 0.\n",
            " 0. 1. 1. 0. 0. 0. 1. 0. 1. 1. 0. 1. 0. 0. 1. 0. 1. 0. 0. 1. 1. 0. 0. 1.\n",
            " 0. 0. 0. 0. 0. 0. 0. 0. 0. 1. 0. 0. 0. 0. 0. 0. 1. 0. 0. 0. 0. 0. 0. 0.\n",
            " 0. 0. 0. 0. 0. 0. 0. 0. 0. 1. 0. 0. 0. 0. 0. 0. 0. 0. 0. 0. 0. 0. 0. 0.\n",
            " 0. 0. 0. 0. 0. 0. 0. 1. 0. 0. 0. 0. 0. 0. 0. 0. 0. 0. 0. 0. 0. 0. 0. 0.\n",
            " 1. 0. 0. 0. 0. 1. 0. 0. 0. 0. 0. 0. 0. 1. 0. 0. 0. 0. 0. 0. 0. 0. 1. 0.\n",
            " 0. 0. 0. 0. 0. 0. 0. 0. 0. 0. 0. 0. 0. 0. 0. 0. 0. 0. 0. 0. 0. 0. 0. 0.\n",
            " 0. 0. 0. 0. 0. 0. 0. 0. 0. 0. 1. 0. 0. 0. 0. 0. 1. 0. 0. 0. 0. 0. 0. 0.\n",
            " 0. 0. 0. 0. 0. 0. 0. 0. 0. 0. 0. 0. 0. 0. 0. 0. 0. 0. 1. 0. 0. 0. 0. 0.\n",
            " 0. 1. 0. 0. 0. 0. 0. 0. 0. 0. 0. 0. 1. 0. 0. 0. 0. 0. 0. 0. 0. 0. 0. 0.\n",
            " 1. 0. 0. 0. 0. 0. 0. 0. 0. 0. 0. 1. 0. 0. 1. 0. 0. 0. 0. 1. 0. 0. 0. 0.\n",
            " 0. 0. 0. 0. 0. 0. 0. 0. 0. 0. 0. 0. 0. 0. 0. 0. 0. 0. 0. 0. 0. 0. 0. 0.\n",
            " 0. 0. 0. 0. 0. 0. 0. 0. 0. 0. 0. 0. 0. 0. 1. 0.]\n"
          ],
          "name": "stdout"
        }
      ]
    },
    {
      "cell_type": "code",
      "metadata": {
        "id": "FA77j2xX4VXz"
      },
      "source": [
        "# print(df['text'][0])"
      ],
      "execution_count": 30,
      "outputs": []
    },
    {
      "cell_type": "markdown",
      "metadata": {
        "id": "GE5Y6PS64eHf"
      },
      "source": [
        "**Build and Train our Model**"
      ]
    },
    {
      "cell_type": "code",
      "metadata": {
        "colab": {
          "base_uri": "https://localhost:8080/"
        },
        "id": "uhA5bTreAldj",
        "outputId": "8512fe5d-0ab6-4472-b2c6-766802cc75c5"
      },
      "source": [
        "df.shape"
      ],
      "execution_count": 63,
      "outputs": [
        {
          "output_type": "execute_result",
          "data": {
            "text/plain": [
              "(411626, 2)"
            ]
          },
          "metadata": {
            "tags": []
          },
          "execution_count": 63
        }
      ]
    },
    {
      "cell_type": "code",
      "metadata": {
        "colab": {
          "base_uri": "https://localhost:8080/"
        },
        "id": "1w8PEstaAsGc",
        "outputId": "02d474ae-cb74-4701-b685-b66a262d1c36"
      },
      "source": [
        "df.dropna().shape"
      ],
      "execution_count": 64,
      "outputs": [
        {
          "output_type": "execute_result",
          "data": {
            "text/plain": [
              "(411626, 2)"
            ]
          },
          "metadata": {
            "tags": []
          },
          "execution_count": 64
        }
      ]
    },
    {
      "cell_type": "code",
      "metadata": {
        "id": "wKngkH8L4Vxy"
      },
      "source": [
        "#Save the tokenizer state\n",
        "\n",
        "import pickle\n",
        "\n",
        "with open('./processor_state.pkl', 'wb') as f:\n",
        "    pickle.dump(processor, f)"
      ],
      "execution_count": 31,
      "outputs": []
    },
    {
      "cell_type": "code",
      "metadata": {
        "colab": {
          "base_uri": "https://localhost:8080/"
        },
        "id": "dV3YFYeJ7ggv",
        "outputId": "a919be3b-0224-4d35-d03f-d5da490025bf"
      },
      "source": [
        "num_tags"
      ],
      "execution_count": 32,
      "outputs": [
        {
          "output_type": "execute_result",
          "data": {
            "text/plain": [
              "7"
            ]
          },
          "metadata": {
            "tags": []
          },
          "execution_count": 32
        }
      ]
    },
    {
      "cell_type": "code",
      "metadata": {
        "colab": {
          "base_uri": "https://localhost:8080/"
        },
        "id": "aHqCnfZQ5gIq",
        "outputId": "738e8441-1b23-4a79-c1e6-fc54afface5c"
      },
      "source": [
        "## Create the model\n",
        "\n",
        "def create_model(vocab_size, num_tags):\n",
        "    model = Sequential()\n",
        "    model.add(Dense(50, input_shape=(vocab_size,), activation='relu'))\n",
        "    # model.add(Dropout(0.2))\n",
        "    # model.add(Dense(50, activation='relu'))\n",
        "    # model.add(Dropout(0.2))\n",
        "    model.add(Dense(25, activation='relu'))\n",
        "    # model.add(Dropout(0.2))\n",
        "    model.add(Dense(num_tags, activation='sigmoid'))\n",
        "\n",
        "    model.compile(\n",
        "        loss='binary_crossentropy',\n",
        "        optimizer='adam',\n",
        "        metrics=['accuracy']\n",
        "    )\n",
        "    return model\n",
        "\n",
        "model = create_model(VOCAB_SIZE, num_tags)\n",
        "model.summary()"
      ],
      "execution_count": 33,
      "outputs": [
        {
          "output_type": "stream",
          "text": [
            "WARNING:tensorflow:From /usr/local/lib/python3.7/dist-packages/tensorflow/python/ops/resource_variable_ops.py:435: colocate_with (from tensorflow.python.framework.ops) is deprecated and will be removed in a future version.\n",
            "Instructions for updating:\n",
            "Colocations handled automatically by placer.\n",
            "_________________________________________________________________\n",
            "Layer (type)                 Output Shape              Param #   \n",
            "=================================================================\n",
            "dense (Dense)                (None, 50)                20050     \n",
            "_________________________________________________________________\n",
            "dense_1 (Dense)              (None, 25)                1275      \n",
            "_________________________________________________________________\n",
            "dense_2 (Dense)              (None, 7)                 182       \n",
            "=================================================================\n",
            "Total params: 21,507\n",
            "Trainable params: 21,507\n",
            "Non-trainable params: 0\n",
            "_________________________________________________________________\n"
          ],
          "name": "stdout"
        }
      ]
    },
    {
      "cell_type": "code",
      "metadata": {
        "id": "ZRewwdFqubwU"
      },
      "source": [
        "from tensorflow.keras.callbacks import EarlyStopping\n",
        "early_stop = EarlyStopping(monitor='val_loss', mode='min', verbose=1, patience=25)"
      ],
      "execution_count": 34,
      "outputs": []
    },
    {
      "cell_type": "code",
      "metadata": {
        "colab": {
          "base_uri": "https://localhost:8080/"
        },
        "id": "S7a3E7yE85Gd",
        "outputId": "be1cbd27-1142-4f95-bd06-64e28959cff9"
      },
      "source": [
        "## Train\n",
        "model.fit(body_train, train_tags, epochs=3, batch_size=128, validation_split=0.1, verbose=1, callbacks=[early_stop])"
      ],
      "execution_count": 35,
      "outputs": [
        {
          "output_type": "stream",
          "text": [
            "Train on 296370 samples, validate on 32930 samples\n",
            "WARNING:tensorflow:From /usr/local/lib/python3.7/dist-packages/tensorflow/python/ops/math_ops.py:3066: to_int32 (from tensorflow.python.ops.math_ops) is deprecated and will be removed in a future version.\n",
            "Instructions for updating:\n",
            "Use tf.cast instead.\n",
            "Epoch 1/3\n",
            "296370/296370 [==============================] - 7s 25us/sample - loss: 0.1385 - acc: 0.9482 - val_loss: 0.1178 - val_acc: 0.9554\n",
            "Epoch 2/3\n",
            "296370/296370 [==============================] - 7s 24us/sample - loss: 0.1127 - acc: 0.9573 - val_loss: 0.1135 - val_acc: 0.9567\n",
            "Epoch 3/3\n",
            "296370/296370 [==============================] - 7s 24us/sample - loss: 0.1089 - acc: 0.9584 - val_loss: 0.1118 - val_acc: 0.9572\n"
          ],
          "name": "stdout"
        },
        {
          "output_type": "execute_result",
          "data": {
            "text/plain": [
              "<tensorflow.python.keras.callbacks.History at 0x7fd6c70d8e50>"
            ]
          },
          "metadata": {
            "tags": []
          },
          "execution_count": 35
        }
      ]
    },
    {
      "cell_type": "code",
      "metadata": {
        "id": "OxMhpXvOWxZi"
      },
      "source": [
        "losses = pd.DataFrame(model.history.history)"
      ],
      "execution_count": 36,
      "outputs": []
    },
    {
      "cell_type": "code",
      "metadata": {
        "colab": {
          "base_uri": "https://localhost:8080/",
          "height": 282
        },
        "id": "k9OBBtKsXn_1",
        "outputId": "e5d5f1cf-f9cc-4932-f533-b026e289aaa3"
      },
      "source": [
        "losses[['val_loss', 'loss']].plot()"
      ],
      "execution_count": 37,
      "outputs": [
        {
          "output_type": "execute_result",
          "data": {
            "text/plain": [
              "<matplotlib.axes._subplots.AxesSubplot at 0x7fd6c6f89610>"
            ]
          },
          "metadata": {
            "tags": []
          },
          "execution_count": 37
        },
        {
          "output_type": "display_data",
          "data": {
            "image/png": "[encoded data removed]",
            "text/plain": [
              "<Figure size 432x288 with 1 Axes>"
            ]
          },
          "metadata": {
            "tags": [],
            "needs_background": "light"
          }
        }
      ]
    },
    {
      "cell_type": "code",
      "metadata": {
        "colab": {
          "base_uri": "https://localhost:8080/"
        },
        "id": "I2kuQ9-a9YrD",
        "outputId": "e0a6e9f2-1c74-4609-84c1-5f29c765af31"
      },
      "source": [
        "## Evalute\n",
        "model.evaluate(body_test, test_tags, batch_size=128)\n",
        "\n",
        "## Epochs = 3\n",
        "# 644/644 [==============================] - 1s 1ms/step - loss: 0.1101 - accuracy: 0.8389\n",
        "# [0.11007880419492722, 0.8388601541519165]\n",
        "\n",
        "##Epochs = 25\n",
        "# 644/644 [==============================] - 1s 1ms/step - loss: 0.1136 - accuracy: 0.8345\n",
        "# [0.1136125847697258, 0.8345237374305725]\n",
        "\n",
        "##Model shape 50>25>out\n",
        "# 644/644 [==============================] - 1s 1ms/step - loss: 0.1116 - accuracy: 0.8378\n",
        "# [0.11160676926374435, 0.8377547860145569]\n",
        "\n",
        "## Model Shape is changed to 100 > 50 > 25 > out ---- Overfitting\n",
        "# 644/644 [==============================] - 1s 1ms/step - loss: 0.1246 - accuracy: 0.8327\n",
        "# [0.12457164376974106, 0.8326895236968994]\n",
        "\n",
        "## Dropout 0.2 with 100 > 50>25\n",
        "# 644/644 [==============================] - 1s 1ms/step - loss: 0.1135 - accuracy: 0.8352\n",
        "# [0.11345642060041428, 0.8352282643318176]\n",
        "\n",
        "## Dropout 0.2 with 50 > 25 >.\n",
        "# 644/644 [==============================] - 1s 1ms/step - loss: 0.1100 - accuracy: 0.8391\n",
        "# [0.11001169681549072, 0.839103102684021]"
      ],
      "execution_count": 38,
      "outputs": [
        {
          "output_type": "stream",
          "text": [
            "82326/82326 [==============================] - 1s 12us/sample - loss: 0.1096 - acc: 0.9583\n"
          ],
          "name": "stdout"
        },
        {
          "output_type": "execute_result",
          "data": {
            "text/plain": [
              "[0.10963479367743671, 0.95831585]"
            ]
          },
          "metadata": {
            "tags": []
          },
          "execution_count": 38
        }
      ]
    },
    {
      "cell_type": "code",
      "metadata": {
        "id": "wos_b7vMGsdA"
      },
      "source": [
        "model.save('keras_stackoverflow_tags.h5')"
      ],
      "execution_count": 39,
      "outputs": []
    },
    {
      "cell_type": "code",
      "metadata": {
        "colab": {
          "base_uri": "https://localhost:8080/"
        },
        "id": "4TpWvQ82HlbU",
        "outputId": "8833eb4c-44e0-453c-d99a-53db612daef9"
      },
      "source": [
        "%%writefile model_prediction.py\n",
        "import pickle\n",
        "import os\n",
        "import numpy as np\n",
        "\n",
        "class CustomModelPrediction(object):\n",
        "\n",
        "    def __init__(self, model, processor):\n",
        "        self._model = model\n",
        "        self._processor = processor\n",
        "\n",
        "    def predict(self, instances, **kwargs):\n",
        "        preprocessed_data = self._processor.transform_text(instances)\n",
        "        predictions = self._model.predict(preprocessed_data)\n",
        "        return predictions.tolist()\n",
        "\n",
        "    @classmethod\n",
        "    def from_path(cls, model_dir):\n",
        "        import tensorflow.keras as keras\n",
        "        model = keras.models.load_model(\n",
        "            os.path.join(model_dir,'keras_stackoverflow_tags.h5')\n",
        "        )\n",
        "        with open(os.path.join(model_dir, 'processor_state.pkl'), 'rb') as f:\n",
        "            processor = pickle.load(f)\n",
        "\n",
        "        return cls(model, processor)"
      ],
      "execution_count": 40,
      "outputs": [
        {
          "output_type": "stream",
          "text": [
            "Overwriting model_prediction.py\n"
          ],
          "name": "stdout"
        }
      ]
    },
    {
      "cell_type": "code",
      "metadata": {
        "id": "8c9JiqpGY14b"
      },
      "source": [
        "# for i in range(len(test_set)):\n",
        "#     print('Predicted Labels:')\n",
        "#     for idx, val in enumerate(results[i]):\n",
        "#         if val > 0.7:\n",
        "#             print(tag_encoder.classes_[idx])\n",
        "#     print('\\n')"
      ],
      "execution_count": 41,
      "outputs": []
    },
    {
      "cell_type": "code",
      "metadata": {
        "id": "jkwS0dC5bT7o"
      },
      "source": [
        "que5 = '''\n",
        "\n",
        "I have a classification (Keras) with LSTM for a dataset with 4 attributes labeled into 2 classes (safe and unsafe). with put the sigmoid in the last layer I got a better accuracy of 98% rather than softmax. My question is that:\n",
        "1 )If I use Softmax in the last layer: in Softmax based on the 2 neurons as output at the end in other code, I can compare the score and say the data belong to which. For example score_safe= 1.2945 and score_unsafe= -9.0 then I can say this row of dataset belongs to the safe class. 2)If I use Sigmid in the last layer: Then I had to put just a neuron as up output and how can I compare the scores and how can say this row of datasets belongs to which class?\n",
        "\n",
        "model = Sequential()\n",
        "model.add(LSTM(256, input_shape=(x_train.shape[1:]), activation='tanh', return_sequences=True))\n",
        "#model.add(BatchNormalization())\n",
        "model.add(Dense(128, activation='tanh'))\n",
        "#model.add(BatchNormalization())\n",
        "model.add(Dense(128, activation='tanh'))\n",
        "model.add(Dense(1, activation='sigmoid'))'''\n",
        "\n",
        "test_set = [\n",
        "  \"How to preprocess strings in Keras models Lambda layer? I have the problem that the value passed on to the Lambda layer (at compile time) is a placeholder generated by keras (without values). When the model is compiled, the .eval () method throws the error: You must feed a value for placeholder tensor 'input_1' with dtype string and shape [?, 1] def text_preprocess(x): strings = tf.keras.backend.eval(x) vectors = [] for string in strings: vector = string_to_one_hot(string.decode('utf-8')) vectors.append(vector) vectorTensor = tf.constant(np.array(vectors),dtype=tf.float32) return vectorTensor input_text = Input(shape=(1,), dtype=tf.string) embedding = Lambda(text_preprocess)(input_text) dense = Dense(256, activation='relu')(embedding) outputs = Dense(2, activation='softmax')(dense) model = Model(inputs=[input_text], outputs=outputs) model.compile(loss='categorical_crossentropy',optimizer='adam', metrics=['accuracy']) model.summary() model.save('test.h5') If I pass a string array into the input layer statically, I can compile the model, but I get the same error if I want to convert the model to tflite. #I replaced this line: input_text = Input(shape=(1,), dtype=tf.string) #by this lines: test = tf.constant(['Hello', 'World']) input_text = Input(shape=(1,), dtype=tf.string, tensor=test) #but calling this ... converter = TFLiteConverter.from_keras_model_file('string_test.h5') tfmodel = converter.convert() #... still leads to this error: InvalidArgumentError: You must feed a value for placeholder tensor 'input_3' with dtype string and shape [2] [[{{node input_3}}]] \",\n",
        "  \"Change the bar item name in Pandas I have a test excel file like: df = pd.DataFrame({'name':list('abcdefg'), 'age':[10,20,5,23,58,4,6]}) print (df) name  age 0    a   10 1    b   20 2    c    5 3    d   23 4    e   58 5    f    4 6    g    6 I use Pandas and matplotlib to read and plot it: import pandas as pd import numpy as np import matplotlib.pyplot as plt import os excel_file = 'test.xlsx' df = pd.read_excel(excel_file, sheet_name=0) df.plot(kind='bar') plt.show() the result shows: enter image description here it use index number as item name, how can I change it to the name, which stored in column name?\"\n",
        "]"
      ],
      "execution_count": 50,
      "outputs": []
    },
    {
      "cell_type": "code",
      "metadata": {
        "colab": {
          "base_uri": "https://localhost:8080/"
        },
        "id": "rJ9HMlRSRPsM",
        "outputId": "31fb04ac-6860-4669-9504-f7d4f0067cfc"
      },
      "source": [
        "# test_set = [\"keras NN 60% accuracy during training 0.0% accuracy during test I've done this nn with keras that have a 60% accuracy during training. The problem is when i try to test my network with a dataset i get a network that is super sure that all the images are in the\"]\n",
        "# test_set = [\"Sigmoid as a last layer in LSTM I have a classification (Keras) with LSTM for a dataset with 4 attributes labeled into 2 classes (safe and unsafe). with put the sigmoid in the last layer I got a better accuracy of 98% rather than \"]\n",
        "# test_set = [que5]\n",
        "\n",
        "from model_prediction import CustomModelPrediction\n",
        "\n",
        "classifier = CustomModelPrediction.from_path('.')\n",
        "results = classifier.predict(test_set)\n",
        "print(','.join(tag_encoder.classes_))\n",
        "for i in results:print(i)\n",
        "\n",
        "for i in range(len(test_set)):\n",
        "    print('Predicted Labels:')\n",
        "    for idx, val in enumerate(results[i]):\n",
        "        if val > 0.6:\n",
        "            print(tag_encoder.classes_[idx], val)\n",
        "    print('\\n')"
      ],
      "execution_count": 52,
      "outputs": [
        {
          "output_type": "stream",
          "text": [
            "keras,matplotlib,numpy,pandas,scikit-learn,seaborn,tensorflow\n",
            "[0.7152091264724731, 8.642673492431641e-07, 0.052270472049713135, 0.0003718733787536621, 8.14199447631836e-05, 1.7881393432617188e-07, 0.9483177661895752]\n",
            "[5.453824996948242e-06, 0.6617723107337952, 0.15700669586658478, 0.6872650384902954, 0.0009212971199303865, 0.013046854175627232, 3.6413746329344576e-06]\n",
            "Predicted Labels:\n",
            "keras 0.7152091264724731\n",
            "tensorflow 0.9483177661895752\n",
            "\n",
            "\n",
            "Predicted Labels:\n",
            "matplotlib 0.6617723107337952\n",
            "pandas 0.6872650384902954\n",
            "\n",
            "\n"
          ],
          "name": "stdout"
        }
      ]
    },
    {
      "cell_type": "code",
      "metadata": {
        "id": "amaarS8IaugT"
      },
      "source": [
        "#classification report and confusion matrix\n",
        "from sklearn.metrics import classification_report\n",
        "\n",
        "predictions = model.predict(body_test) #test_tags"
      ],
      "execution_count": 44,
      "outputs": []
    },
    {
      "cell_type": "code",
      "metadata": {
        "id": "JXTBlsLqj4ib"
      },
      "source": [
        "pred_df = pd.DataFrame(predictions)"
      ],
      "execution_count": 45,
      "outputs": []
    },
    {
      "cell_type": "code",
      "metadata": {
        "id": "QZ--dH9vkY08"
      },
      "source": [
        "pred_df = pred_df.apply(lambda i : i > 0.7)"
      ],
      "execution_count": 46,
      "outputs": []
    },
    {
      "cell_type": "code",
      "metadata": {
        "colab": {
          "base_uri": "https://localhost:8080/"
        },
        "id": "gszLs6xPjq9F",
        "outputId": "9496035a-f4c0-44d8-a1ed-e954c467c570"
      },
      "source": [
        "print(classification_report(test_tags, pred_df))"
      ],
      "execution_count": 47,
      "outputs": [
        {
          "output_type": "stream",
          "text": [
            "              precision    recall  f1-score   support\n",
            "\n",
            "           0       0.88      0.59      0.70      7085\n",
            "           1       0.91      0.77      0.83     11476\n",
            "           2       0.95      0.63      0.75     17441\n",
            "           3       0.98      0.89      0.93     38650\n",
            "           4       0.91      0.67      0.77      4495\n",
            "           5       0.94      0.10      0.18      1280\n",
            "           6       0.93      0.74      0.82     14147\n",
            "\n",
            "   micro avg       0.95      0.76      0.84     94574\n",
            "   macro avg       0.93      0.63      0.71     94574\n",
            "weighted avg       0.95      0.76      0.84     94574\n",
            " samples avg       0.86      0.81      0.82     94574\n",
            "\n"
          ],
          "name": "stdout"
        },
        {
          "output_type": "stream",
          "text": [
            "/usr/local/lib/python3.7/dist-packages/sklearn/metrics/_classification.py:1272: UndefinedMetricWarning: Precision and F-score are ill-defined and being set to 0.0 in samples with no predicted labels. Use `zero_division` parameter to control this behavior.\n",
            "  _warn_prf(average, modifier, msg_start, len(result))\n"
          ],
          "name": "stderr"
        }
      ]
    },
    {
      "cell_type": "markdown",
      "metadata": {
        "id": "5EVBqMOam4EV"
      },
      "source": [
        "**pkg and deploy**"
      ]
    },
    {
      "cell_type": "code",
      "metadata": {
        "colab": {
          "base_uri": "https://localhost:8080/"
        },
        "id": "5e4xalGmnFS9",
        "outputId": "cd028808-a138-4258-f8f6-af2d5bf0d21f"
      },
      "source": [
        "%%writefile setup.py\n",
        "\n",
        "from setuptools import setup\n",
        "\n",
        "setup(\n",
        "    name=\"so_predict\",\n",
        "    version=\"0.1\",\n",
        "    include_package_date=True,\n",
        "    scripts=['perprocess.py', 'model_prediction.py']\n",
        ")"
      ],
      "execution_count": 53,
      "outputs": [
        {
          "output_type": "stream",
          "text": [
            "Overwriting setup.py\n"
          ],
          "name": "stdout"
        }
      ]
    },
    {
      "cell_type": "code",
      "metadata": {
        "id": "ClNQNHvin_DL"
      },
      "source": [
        "from google.colab import auth\n",
        "auth.authenticate_user()"
      ],
      "execution_count": null,
      "outputs": []
    },
    {
      "cell_type": "code",
      "metadata": {
        "colab": {
          "base_uri": "https://localhost:8080/"
        },
        "id": "Y1neLvC7nuEe",
        "outputId": "fe48be7f-377d-4eb9-cd76-638700da77be"
      },
      "source": [
        "!gsutil cp keras_stackoverflow_tags.h5 gs://stackoverflow-que-tags-aibuck/\n",
        "!gsutil cp processor_state.pkl gs://stackoverflow-que-tags-aibuck/"
      ],
      "execution_count": 54,
      "outputs": [
        {
          "output_type": "stream",
          "text": [
            "Copying file://keras_stackoverflow_tags.h5 [Content-Type=application/octet-stream]...\n",
            "/ [1 files][278.2 KiB/278.2 KiB]                                                \n",
            "Operation completed over 1 objects/278.2 KiB.                                    \n",
            "Copying file://processor_state.pkl [Content-Type=application/octet-stream]...\n",
            "- [1 files][ 63.4 MiB/ 63.4 MiB]                                                \n",
            "Operation completed over 1 objects/63.4 MiB.                                     \n"
          ],
          "name": "stdout"
        }
      ]
    },
    {
      "cell_type": "code",
      "metadata": {
        "colab": {
          "base_uri": "https://localhost:8080/"
        },
        "id": "EfYiZ2XYo-n4",
        "outputId": "4fb30a6f-69a9-48c9-ca5c-e2dd2b1e5f6b"
      },
      "source": [
        "!python setup.py sdist"
      ],
      "execution_count": 55,
      "outputs": [
        {
          "output_type": "stream",
          "text": [
            "/usr/lib/python3.7/distutils/dist.py:274: UserWarning: Unknown distribution option: 'include_package_date'\n",
            "  warnings.warn(msg)\n",
            "running sdist\n",
            "running egg_info\n",
            "writing so_predict.egg-info/PKG-INFO\n",
            "writing dependency_links to so_predict.egg-info/dependency_links.txt\n",
            "writing top-level names to so_predict.egg-info/top_level.txt\n",
            "reading manifest file 'so_predict.egg-info/SOURCES.txt'\n",
            "writing manifest file 'so_predict.egg-info/SOURCES.txt'\n",
            "warning: sdist: standard file not found: should have one of README, README.rst, README.txt, README.md\n",
            "\n",
            "running check\n",
            "warning: check: missing required meta-data: url\n",
            "\n",
            "warning: check: missing meta-data: either (author and author_email) or (maintainer and maintainer_email) must be supplied\n",
            "\n",
            "creating so_predict-0.1\n",
            "creating so_predict-0.1/so_predict.egg-info\n",
            "copying files to so_predict-0.1...\n",
            "copying model_prediction.py -> so_predict-0.1\n",
            "copying setup.py -> so_predict-0.1\n",
            "copying so_predict.egg-info/PKG-INFO -> so_predict-0.1/so_predict.egg-info\n",
            "copying so_predict.egg-info/SOURCES.txt -> so_predict-0.1/so_predict.egg-info\n",
            "copying so_predict.egg-info/dependency_links.txt -> so_predict-0.1/so_predict.egg-info\n",
            "copying so_predict.egg-info/top_level.txt -> so_predict-0.1/so_predict.egg-info\n",
            "Writing so_predict-0.1/setup.cfg\n",
            "Creating tar archive\n",
            "removing 'so_predict-0.1' (and everything under it)\n"
          ],
          "name": "stdout"
        }
      ]
    },
    {
      "cell_type": "code",
      "metadata": {
        "colab": {
          "base_uri": "https://localhost:8080/"
        },
        "id": "wWduTHmDzWgj",
        "outputId": "d81ccc36-6a7e-4be1-a679-8a3c628937a2"
      },
      "source": [
        "!gsutil cp ./dist/so_predict-0.1.tar.gz gs://stackoverflow-que-tags-aibuck/packages/so_predict-0.1.tar.gz"
      ],
      "execution_count": 56,
      "outputs": [
        {
          "output_type": "stream",
          "text": [
            "Copying file://./dist/so_predict-0.1.tar.gz [Content-Type=application/x-tar]...\n",
            "/ [0 files][    0.0 B/  987.0 B]                                                \r/ [1 files][  987.0 B/  987.0 B]                                                \r\n",
            "Operation completed over 1 objects/987.0 B.                                      \n"
          ],
          "name": "stdout"
        }
      ]
    },
    {
      "cell_type": "code",
      "metadata": {
        "colab": {
          "base_uri": "https://localhost:8080/"
        },
        "id": "wPf39gMn1Kjo",
        "outputId": "4fddee49-815e-47a8-f550-3558974b9430"
      },
      "source": [
        " ## Set gcloud to demo project\n",
        " !gcloud config set project stackoverflow-que-tags"
      ],
      "execution_count": 57,
      "outputs": [
        {
          "output_type": "stream",
          "text": [
            "Updated property [core/project].\n"
          ],
          "name": "stdout"
        }
      ]
    },
    {
      "cell_type": "code",
      "metadata": {
        "id": "USpIXpkS4xLt"
      },
      "source": [
        "## Deploy model to AI Platform with custom code"
      ],
      "execution_count": null,
      "outputs": []
    },
    {
      "cell_type": "code",
      "metadata": {
        "colab": {
          "base_uri": "https://localhost:8080/"
        },
        "id": "I6wK0ryV2BmD",
        "outputId": "0410f3d1-4b62-4a8d-b638-f5f535928ab7"
      },
      "source": [
        "%%writefile config.yaml\n",
        "autoScaling:\n",
        "    minNodes: 1"
      ],
      "execution_count": 58,
      "outputs": [
        {
          "output_type": "stream",
          "text": [
            "Overwriting config.yaml\n"
          ],
          "name": "stdout"
        }
      ]
    },
    {
      "cell_type": "code",
      "metadata": {
        "id": "PE7OaoSo6OiG"
      },
      "source": [
        "!python --version\n",
        "tensorflow\n",
        "--runtime-version=1.13 \\\n",
        "--framework='TENSORFLOW' \\"
      ],
      "execution_count": null,
      "outputs": []
    },
    {
      "cell_type": "code",
      "metadata": {
        "id": "n3upnFzGbR1t"
      },
      "source": [
        "!gcloud config set ai_platform/region global"
      ],
      "execution_count": null,
      "outputs": []
    },
    {
      "cell_type": "code",
      "metadata": {
        "colab": {
          "base_uri": "https://localhost:8080/"
        },
        "id": "pK2MTtcZ4ssE",
        "outputId": "578083d4-8695-49e0-8d8c-6f993d77450c"
      },
      "source": [
        "!gcloud beta ai-platform versions create v13 --model stacko_model \\\n",
        "--origin=gs://stackoverflow-que-tags-aibuck/ \\\n",
        "--python-version=3.5 \\\n",
        "--runtime-version=1.13 \\\n",
        "--framework='TENSORFLOW' \\\n",
        "--config=config.yaml \\\n",
        "--package-uris=gs://stackoverflow-que-tags-aibuck/packages/so_predict-0.1.tar.gz \\\n",
        "--prediction-class=model_prediction.CustomModelPrediction"
      ],
      "execution_count": 76,
      "outputs": [
        {
          "output_type": "stream",
          "text": [
            "Using endpoint [https://ml.googleapis.com/]\n",
            "\u001b[1;31mERROR:\u001b[0m (gcloud.beta.ai-platform.versions.create) FAILED_PRECONDITION: Field: prediction_class Error: Exactly one of \"prediction_class\" and \"framework\" may be provided. In order to use a custom prediction class, \"framework\" should be left unspecified.\n",
            "- '@type': type.googleapis.com/google.rpc.BadRequest\n",
            "  fieldViolations:\n",
            "  - description: Exactly one of \"prediction_class\" and \"framework\" may be provided.\n",
            "      In order to use a custom prediction class, \"framework\" should be left unspecified.\n",
            "    field: prediction_class\n"
          ],
          "name": "stdout"
        }
      ]
    },
    {
      "cell_type": "code",
      "metadata": {
        "id": "qiNnQB_BZU5F"
      },
      "source": [
        ""
      ],
      "execution_count": 66,
      "outputs": []
    },
    {
      "cell_type": "markdown",
      "metadata": {
        "id": "PP-VouX5LLSK"
      },
      "source": [
        "**Interpreting out Model with SHAP**"
      ]
    },
    {
      "cell_type": "code",
      "metadata": {
        "colab": {
          "base_uri": "https://localhost:8080/"
        },
        "id": "-D8xeh_8Lcs7",
        "outputId": "977d62f8-da71-4c93-f5c5-c156a7501fdb"
      },
      "source": [
        "!pip install shap"
      ],
      "execution_count": 68,
      "outputs": [
        {
          "output_type": "stream",
          "text": [
            "Collecting shap\n",
            "\u001b[?25l  Downloading https://files.pythonhosted.org/packages/b9/f4/c5b95cddae15be80f8e58b25edceca105aa83c0b8c86a1edad24a6af80d3/shap-0.39.0.tar.gz (356kB)\n",
            "\r\u001b[K     |█                               | 10kB 16.5MB/s eta 0:00:01\r\u001b[K     |█▉                              | 20kB 21.1MB/s eta 0:00:01\r\u001b[K     |██▊                             | 30kB 11.3MB/s eta 0:00:01\r\u001b[K     |███▊                            | 40kB 8.9MB/s eta 0:00:01\r\u001b[K     |████▋                           | 51kB 7.1MB/s eta 0:00:01\r\u001b[K     |█████▌                          | 61kB 7.3MB/s eta 0:00:01\r\u001b[K     |██████▍                         | 71kB 7.3MB/s eta 0:00:01\r\u001b[K     |███████▍                        | 81kB 7.5MB/s eta 0:00:01\r\u001b[K     |████████▎                       | 92kB 7.5MB/s eta 0:00:01\r\u001b[K     |█████████▏                      | 102kB 7.6MB/s eta 0:00:01\r\u001b[K     |██████████▏                     | 112kB 7.6MB/s eta 0:00:01\r\u001b[K     |███████████                     | 122kB 7.6MB/s eta 0:00:01\r\u001b[K     |████████████                    | 133kB 7.6MB/s eta 0:00:01\r\u001b[K     |████████████▉                   | 143kB 7.6MB/s eta 0:00:01\r\u001b[K     |█████████████▉                  | 153kB 7.6MB/s eta 0:00:01\r\u001b[K     |██████████████▊                 | 163kB 7.6MB/s eta 0:00:01\r\u001b[K     |███████████████▋                | 174kB 7.6MB/s eta 0:00:01\r\u001b[K     |████████████████▋               | 184kB 7.6MB/s eta 0:00:01\r\u001b[K     |█████████████████▌              | 194kB 7.6MB/s eta 0:00:01\r\u001b[K     |██████████████████▍             | 204kB 7.6MB/s eta 0:00:01\r\u001b[K     |███████████████████▎            | 215kB 7.6MB/s eta 0:00:01\r\u001b[K     |████████████████████▎           | 225kB 7.6MB/s eta 0:00:01\r\u001b[K     |█████████████████████▏          | 235kB 7.6MB/s eta 0:00:01\r\u001b[K     |██████████████████████          | 245kB 7.6MB/s eta 0:00:01\r\u001b[K     |███████████████████████         | 256kB 7.6MB/s eta 0:00:01\r\u001b[K     |████████████████████████        | 266kB 7.6MB/s eta 0:00:01\r\u001b[K     |████████████████████████▉       | 276kB 7.6MB/s eta 0:00:01\r\u001b[K     |█████████████████████████▊      | 286kB 7.6MB/s eta 0:00:01\r\u001b[K     |██████████████████████████▊     | 296kB 7.6MB/s eta 0:00:01\r\u001b[K     |███████████████████████████▋    | 307kB 7.6MB/s eta 0:00:01\r\u001b[K     |████████████████████████████▌   | 317kB 7.6MB/s eta 0:00:01\r\u001b[K     |█████████████████████████████▍  | 327kB 7.6MB/s eta 0:00:01\r\u001b[K     |██████████████████████████████▍ | 337kB 7.6MB/s eta 0:00:01\r\u001b[K     |███████████████████████████████▎| 348kB 7.6MB/s eta 0:00:01\r\u001b[K     |████████████████████████████████| 358kB 7.6MB/s \n",
            "\u001b[?25hRequirement already satisfied: numpy in /usr/local/lib/python3.7/dist-packages (from shap) (1.19.5)\n",
            "Requirement already satisfied: scipy in /usr/local/lib/python3.7/dist-packages (from shap) (1.4.1)\n",
            "Requirement already satisfied: scikit-learn in /usr/local/lib/python3.7/dist-packages (from shap) (0.22.2.post1)\n",
            "Requirement already satisfied: pandas in /usr/local/lib/python3.7/dist-packages (from shap) (1.1.5)\n",
            "Requirement already satisfied: tqdm>4.25.0 in /usr/local/lib/python3.7/dist-packages (from shap) (4.41.1)\n",
            "Collecting slicer==0.0.7\n",
            "  Downloading https://files.pythonhosted.org/packages/78/c2/b3f55dfdb8af9812fdb9baf70cacf3b9e82e505b2bd4324d588888b81202/slicer-0.0.7-py3-none-any.whl\n",
            "Requirement already satisfied: numba in /usr/local/lib/python3.7/dist-packages (from shap) (0.51.2)\n",
            "Requirement already satisfied: cloudpickle in /usr/local/lib/python3.7/dist-packages (from shap) (1.3.0)\n",
            "Requirement already satisfied: joblib>=0.11 in /usr/local/lib/python3.7/dist-packages (from scikit-learn->shap) (1.0.1)\n",
            "Requirement already satisfied: python-dateutil>=2.7.3 in /usr/local/lib/python3.7/dist-packages (from pandas->shap) (2.8.1)\n",
            "Requirement already satisfied: pytz>=2017.2 in /usr/local/lib/python3.7/dist-packages (from pandas->shap) (2018.9)\n",
            "Requirement already satisfied: llvmlite<0.35,>=0.34.0.dev0 in /usr/local/lib/python3.7/dist-packages (from numba->shap) (0.34.0)\n",
            "Requirement already satisfied: setuptools in /usr/local/lib/python3.7/dist-packages (from numba->shap) (56.1.0)\n",
            "Requirement already satisfied: six>=1.5 in /usr/local/lib/python3.7/dist-packages (from python-dateutil>=2.7.3->pandas->shap) (1.15.0)\n",
            "Building wheels for collected packages: shap\n",
            "  Building wheel for shap (setup.py) ... \u001b[?25l\u001b[?25hdone\n",
            "  Created wheel for shap: filename=shap-0.39.0-cp37-cp37m-linux_x86_64.whl size=491625 sha256=bd1c9aa900cc9cfc6d3e7d19df53a0cb4e24ce6ce0b803b36080366393c880e2\n",
            "  Stored in directory: /root/.cache/pip/wheels/15/27/f5/a8ab9da52fd159aae6477b5ede6eaaec69fd130fa0fa59f283\n",
            "Successfully built shap\n",
            "Installing collected packages: slicer, shap\n",
            "Successfully installed shap-0.39.0 slicer-0.0.7\n"
          ],
          "name": "stdout"
        }
      ]
    },
    {
      "cell_type": "code",
      "metadata": {
        "colab": {
          "base_uri": "https://localhost:8080/"
        },
        "id": "bautQEtxLJfM",
        "outputId": "2cf054bd-3f27-46ce-fbf5-3cae43247e73"
      },
      "source": [
        "import shap\n",
        "attrib_data = body_train[:200]\n",
        "explainer = shap.DeepExplainer(model, attrib_data)\n",
        "\n",
        "num_explanations = 25\n",
        "shap_vals = explainer.shap_values(body_test[:num_explanations])"
      ],
      "execution_count": 69,
      "outputs": [
        {
          "output_type": "stream",
          "text": [
            "Using TensorFlow backend.\n",
            "keras is no longer supported, please use tf.keras instead.\n"
          ],
          "name": "stderr"
        }
      ]
    },
    {
      "cell_type": "code",
      "metadata": {
        "id": "JdPNykICLawU"
      },
      "source": [
        "words = processor._tokenizer.word_index"
      ],
      "execution_count": 70,
      "outputs": []
    },
    {
      "cell_type": "code",
      "metadata": {
        "colab": {
          "base_uri": "https://localhost:8080/"
        },
        "id": "GmCIfX_VL6vg",
        "outputId": "8a1b0f59-86a5-49ca-e359-d83cad0708a3"
      },
      "source": [
        "word_lookup = list()\n",
        "for i in words.keys():\n",
        "  word_lookup.append(i)\n",
        "\n",
        "word_lookup = [''] + word_lookup\n",
        "print(word_lookup[:100])"
      ],
      "execution_count": 71,
      "outputs": [
        {
          "output_type": "stream",
          "text": [
            "['', '0', 'the', 'i', '1', 'to', 'a', 'in', 'blabla', '2', 'and', 'of', 'is', '3', 'for', 'x', 'data', 'this', 'df', 'with', 'as', 'quot', '5', 'gt', '4', 'np', 'it', 'from', 'import', 'that', 'have', 'model', 'y', 'tf', \"'\", 'but', 'self', 'dataframe', 'file', 'my', '00', '10', 'if', 'how', 'on', 'not', 'python', '6', 'array', '7', 'lt', 'get', 'be', 'train', '01', 'like', 'c', 'using', 'code', 'am', 'column', 'values', 'pd', 'nan', 'line', 'input', 'can', 'py', 'name', 'index', 'plt', 'print', 'size', 'value', 'shape', 'b', '8', 'do', 'so', 'columns', 'want', 'an', 'error', 'are', 'test', 'output', 'true', 'n', 'return', 'lib', 'list', 'plot', 'set', '12', 'time', '9', 'or', 'use', 'def', 'all']\n"
          ],
          "name": "stdout"
        }
      ]
    },
    {
      "cell_type": "code",
      "metadata": {
        "colab": {
          "base_uri": "https://localhost:8080/",
          "height": 581
        },
        "id": "MvOqp4DaL_33",
        "outputId": "6bd5334b-deab-4e20-b3c5-06954c32c02c"
      },
      "source": [
        "shap.summary_plot(shap_vals, feature_names=word_lookup, class_names=tag_encoder.classes_)"
      ],
      "execution_count": 72,
      "outputs": [
        {
          "output_type": "display_data",
          "data": {
            "image/png": "[encoded data removed]",
            "text/plain": [
              "<Figure size 576x684 with 1 Axes>"
            ]
          },
          "metadata": {
            "tags": [],
            "needs_background": "light"
          }
        }
      ]
    },
    {
      "cell_type": "code",
      "metadata": {
        "id": "XilSKlaGMF56"
      },
      "source": [
        ""
      ],
      "execution_count": null,
      "outputs": []
    }
  ]
}